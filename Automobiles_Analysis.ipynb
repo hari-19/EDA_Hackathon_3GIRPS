{
  "nbformat": 4,
  "nbformat_minor": 0,
  "metadata": {
    "colab": {
      "name": "Automobiles_Analysis.ipynb",
      "provenance": [],
      "collapsed_sections": [],
      "include_colab_link": true
    },
    "kernelspec": {
      "name": "python3",
      "display_name": "Python 3"
    }
  },
  "cells": [
    {
      "cell_type": "markdown",
      "metadata": {
        "id": "view-in-github",
        "colab_type": "text"
      },
      "source": [
        "<a href=\"https://colab.research.google.com/github/hari-19/EDA_Hackathon_3GIRPS/blob/master/Automobiles_Analysis.ipynb\" target=\"_parent\"><img src=\"https://colab.research.google.com/assets/colab-badge.svg\" alt=\"Open In Colab\"/></a>"
      ]
    },
    {
      "cell_type": "code",
      "metadata": {
        "id": "qHTJ4tA1NitH",
        "colab_type": "code",
        "colab": {}
      },
      "source": [
        "# Team 1\n",
        "# Hari Hara Sudhan"
      ],
      "execution_count": 0,
      "outputs": []
    },
    {
      "cell_type": "code",
      "metadata": {
        "id": "B5G0vENHN16M",
        "colab_type": "code",
        "colab": {}
      },
      "source": [
        "import numpy as np\n",
        "import pandas as pd\n",
        "import seaborn as sns\n",
        "from matplotlib import pyplot as plt\n",
        "from google.colab import files\n"
      ],
      "execution_count": 0,
      "outputs": []
    },
    {
      "cell_type": "code",
      "metadata": {
        "id": "vniCEWnYNT92",
        "colab_type": "code",
        "colab": {}
      },
      "source": [
        "url = \"https://raw.githubusercontent.com/hari-19/EDA_Hackathon_3GIRPS/master/Automobile_Dataset.csv\"\n",
        "df = pd.read_csv(url)"
      ],
      "execution_count": 0,
      "outputs": []
    },
    {
      "cell_type": "code",
      "metadata": {
        "id": "D6m_IP97OQh9",
        "colab_type": "code",
        "outputId": "f5898053-a0e0-481e-f1d2-5cdabaa9fbeb",
        "colab": {
          "base_uri": "https://localhost:8080/",
          "height": 282
        }
      },
      "source": [
        "df.describe()"
      ],
      "execution_count": 4,
      "outputs": [
        {
          "output_type": "execute_result",
          "data": {
            "text/html": [
              "<div>\n",
              "<style scoped>\n",
              "    .dataframe tbody tr th:only-of-type {\n",
              "        vertical-align: middle;\n",
              "    }\n",
              "\n",
              "    .dataframe tbody tr th {\n",
              "        vertical-align: top;\n",
              "    }\n",
              "\n",
              "    .dataframe thead th {\n",
              "        text-align: right;\n",
              "    }\n",
              "</style>\n",
              "<table border=\"1\" class=\"dataframe\">\n",
              "  <thead>\n",
              "    <tr style=\"text-align: right;\">\n",
              "      <th></th>\n",
              "      <th>symboling</th>\n",
              "      <th>wheel_base</th>\n",
              "      <th>length</th>\n",
              "      <th>width</th>\n",
              "      <th>height</th>\n",
              "      <th>curb_weight</th>\n",
              "      <th>engine_size</th>\n",
              "      <th>compression_ratio</th>\n",
              "      <th>city_mpg</th>\n",
              "      <th>highway_mpg</th>\n",
              "    </tr>\n",
              "  </thead>\n",
              "  <tbody>\n",
              "    <tr>\n",
              "      <th>count</th>\n",
              "      <td>205.000000</td>\n",
              "      <td>205.000000</td>\n",
              "      <td>205.000000</td>\n",
              "      <td>205.000000</td>\n",
              "      <td>205.000000</td>\n",
              "      <td>205.000000</td>\n",
              "      <td>205.000000</td>\n",
              "      <td>205.000000</td>\n",
              "      <td>205.000000</td>\n",
              "      <td>205.000000</td>\n",
              "    </tr>\n",
              "    <tr>\n",
              "      <th>mean</th>\n",
              "      <td>0.834146</td>\n",
              "      <td>98.756585</td>\n",
              "      <td>174.049268</td>\n",
              "      <td>65.907805</td>\n",
              "      <td>53.724878</td>\n",
              "      <td>2555.565854</td>\n",
              "      <td>126.907317</td>\n",
              "      <td>10.142537</td>\n",
              "      <td>25.219512</td>\n",
              "      <td>30.751220</td>\n",
              "    </tr>\n",
              "    <tr>\n",
              "      <th>std</th>\n",
              "      <td>1.245307</td>\n",
              "      <td>6.021776</td>\n",
              "      <td>12.337289</td>\n",
              "      <td>2.145204</td>\n",
              "      <td>2.443522</td>\n",
              "      <td>520.680204</td>\n",
              "      <td>41.642693</td>\n",
              "      <td>3.972040</td>\n",
              "      <td>6.542142</td>\n",
              "      <td>6.886443</td>\n",
              "    </tr>\n",
              "    <tr>\n",
              "      <th>min</th>\n",
              "      <td>-2.000000</td>\n",
              "      <td>86.600000</td>\n",
              "      <td>141.100000</td>\n",
              "      <td>60.300000</td>\n",
              "      <td>47.800000</td>\n",
              "      <td>1488.000000</td>\n",
              "      <td>61.000000</td>\n",
              "      <td>7.000000</td>\n",
              "      <td>13.000000</td>\n",
              "      <td>16.000000</td>\n",
              "    </tr>\n",
              "    <tr>\n",
              "      <th>25%</th>\n",
              "      <td>0.000000</td>\n",
              "      <td>94.500000</td>\n",
              "      <td>166.300000</td>\n",
              "      <td>64.100000</td>\n",
              "      <td>52.000000</td>\n",
              "      <td>2145.000000</td>\n",
              "      <td>97.000000</td>\n",
              "      <td>8.600000</td>\n",
              "      <td>19.000000</td>\n",
              "      <td>25.000000</td>\n",
              "    </tr>\n",
              "    <tr>\n",
              "      <th>50%</th>\n",
              "      <td>1.000000</td>\n",
              "      <td>97.000000</td>\n",
              "      <td>173.200000</td>\n",
              "      <td>65.500000</td>\n",
              "      <td>54.100000</td>\n",
              "      <td>2414.000000</td>\n",
              "      <td>120.000000</td>\n",
              "      <td>9.000000</td>\n",
              "      <td>24.000000</td>\n",
              "      <td>30.000000</td>\n",
              "    </tr>\n",
              "    <tr>\n",
              "      <th>75%</th>\n",
              "      <td>2.000000</td>\n",
              "      <td>102.400000</td>\n",
              "      <td>183.100000</td>\n",
              "      <td>66.900000</td>\n",
              "      <td>55.500000</td>\n",
              "      <td>2935.000000</td>\n",
              "      <td>141.000000</td>\n",
              "      <td>9.400000</td>\n",
              "      <td>30.000000</td>\n",
              "      <td>34.000000</td>\n",
              "    </tr>\n",
              "    <tr>\n",
              "      <th>max</th>\n",
              "      <td>3.000000</td>\n",
              "      <td>120.900000</td>\n",
              "      <td>208.100000</td>\n",
              "      <td>72.300000</td>\n",
              "      <td>59.800000</td>\n",
              "      <td>4066.000000</td>\n",
              "      <td>326.000000</td>\n",
              "      <td>23.000000</td>\n",
              "      <td>49.000000</td>\n",
              "      <td>54.000000</td>\n",
              "    </tr>\n",
              "  </tbody>\n",
              "</table>\n",
              "</div>"
            ],
            "text/plain": [
              "        symboling  wheel_base  ...    city_mpg  highway_mpg\n",
              "count  205.000000  205.000000  ...  205.000000   205.000000\n",
              "mean     0.834146   98.756585  ...   25.219512    30.751220\n",
              "std      1.245307    6.021776  ...    6.542142     6.886443\n",
              "min     -2.000000   86.600000  ...   13.000000    16.000000\n",
              "25%      0.000000   94.500000  ...   19.000000    25.000000\n",
              "50%      1.000000   97.000000  ...   24.000000    30.000000\n",
              "75%      2.000000  102.400000  ...   30.000000    34.000000\n",
              "max      3.000000  120.900000  ...   49.000000    54.000000\n",
              "\n",
              "[8 rows x 10 columns]"
            ]
          },
          "metadata": {
            "tags": []
          },
          "execution_count": 4
        }
      ]
    },
    {
      "cell_type": "code",
      "metadata": {
        "id": "1KeC11QyOZzl",
        "colab_type": "code",
        "outputId": "b09cd63e-af2b-4c75-87c9-f757d68a9946",
        "colab": {
          "base_uri": "https://localhost:8080/",
          "height": 264
        }
      },
      "source": [
        "df.head()\n"
      ],
      "execution_count": 5,
      "outputs": [
        {
          "output_type": "execute_result",
          "data": {
            "text/html": [
              "<div>\n",
              "<style scoped>\n",
              "    .dataframe tbody tr th:only-of-type {\n",
              "        vertical-align: middle;\n",
              "    }\n",
              "\n",
              "    .dataframe tbody tr th {\n",
              "        vertical-align: top;\n",
              "    }\n",
              "\n",
              "    .dataframe thead th {\n",
              "        text-align: right;\n",
              "    }\n",
              "</style>\n",
              "<table border=\"1\" class=\"dataframe\">\n",
              "  <thead>\n",
              "    <tr style=\"text-align: right;\">\n",
              "      <th></th>\n",
              "      <th>symboling</th>\n",
              "      <th>normalized_losses</th>\n",
              "      <th>make</th>\n",
              "      <th>fuel_type</th>\n",
              "      <th>aspiration</th>\n",
              "      <th>num_of_doors</th>\n",
              "      <th>body_style</th>\n",
              "      <th>drive_wheels</th>\n",
              "      <th>engine_location</th>\n",
              "      <th>wheel_base</th>\n",
              "      <th>length</th>\n",
              "      <th>width</th>\n",
              "      <th>height</th>\n",
              "      <th>curb_weight</th>\n",
              "      <th>engine_type</th>\n",
              "      <th>num_of_cylinders</th>\n",
              "      <th>engine_size</th>\n",
              "      <th>fuel_system</th>\n",
              "      <th>bore</th>\n",
              "      <th>stroke</th>\n",
              "      <th>compression_ratio</th>\n",
              "      <th>horsepower</th>\n",
              "      <th>peak_rpm</th>\n",
              "      <th>city_mpg</th>\n",
              "      <th>highway_mpg</th>\n",
              "      <th>price</th>\n",
              "    </tr>\n",
              "  </thead>\n",
              "  <tbody>\n",
              "    <tr>\n",
              "      <th>0</th>\n",
              "      <td>3</td>\n",
              "      <td>?</td>\n",
              "      <td>alfa-romero</td>\n",
              "      <td>gas</td>\n",
              "      <td>std</td>\n",
              "      <td>two</td>\n",
              "      <td>convertible</td>\n",
              "      <td>rwd</td>\n",
              "      <td>front</td>\n",
              "      <td>88.6</td>\n",
              "      <td>168.8</td>\n",
              "      <td>64.1</td>\n",
              "      <td>48.8</td>\n",
              "      <td>2548</td>\n",
              "      <td>dohc</td>\n",
              "      <td>four</td>\n",
              "      <td>130</td>\n",
              "      <td>mpfi</td>\n",
              "      <td>3.47</td>\n",
              "      <td>2.68</td>\n",
              "      <td>9.0</td>\n",
              "      <td>111</td>\n",
              "      <td>5000</td>\n",
              "      <td>21</td>\n",
              "      <td>27</td>\n",
              "      <td>13495</td>\n",
              "    </tr>\n",
              "    <tr>\n",
              "      <th>1</th>\n",
              "      <td>3</td>\n",
              "      <td>?</td>\n",
              "      <td>alfa-romero</td>\n",
              "      <td>gas</td>\n",
              "      <td>std</td>\n",
              "      <td>two</td>\n",
              "      <td>convertible</td>\n",
              "      <td>rwd</td>\n",
              "      <td>front</td>\n",
              "      <td>88.6</td>\n",
              "      <td>168.8</td>\n",
              "      <td>64.1</td>\n",
              "      <td>48.8</td>\n",
              "      <td>2548</td>\n",
              "      <td>dohc</td>\n",
              "      <td>four</td>\n",
              "      <td>130</td>\n",
              "      <td>mpfi</td>\n",
              "      <td>3.47</td>\n",
              "      <td>2.68</td>\n",
              "      <td>9.0</td>\n",
              "      <td>111</td>\n",
              "      <td>5000</td>\n",
              "      <td>21</td>\n",
              "      <td>27</td>\n",
              "      <td>16500</td>\n",
              "    </tr>\n",
              "    <tr>\n",
              "      <th>2</th>\n",
              "      <td>1</td>\n",
              "      <td>?</td>\n",
              "      <td>alfa-romero</td>\n",
              "      <td>gas</td>\n",
              "      <td>std</td>\n",
              "      <td>two</td>\n",
              "      <td>hatchback</td>\n",
              "      <td>rwd</td>\n",
              "      <td>front</td>\n",
              "      <td>94.5</td>\n",
              "      <td>171.2</td>\n",
              "      <td>65.5</td>\n",
              "      <td>52.4</td>\n",
              "      <td>2823</td>\n",
              "      <td>ohcv</td>\n",
              "      <td>six</td>\n",
              "      <td>152</td>\n",
              "      <td>mpfi</td>\n",
              "      <td>2.68</td>\n",
              "      <td>3.47</td>\n",
              "      <td>9.0</td>\n",
              "      <td>154</td>\n",
              "      <td>5000</td>\n",
              "      <td>19</td>\n",
              "      <td>26</td>\n",
              "      <td>16500</td>\n",
              "    </tr>\n",
              "    <tr>\n",
              "      <th>3</th>\n",
              "      <td>2</td>\n",
              "      <td>164</td>\n",
              "      <td>audi</td>\n",
              "      <td>gas</td>\n",
              "      <td>std</td>\n",
              "      <td>four</td>\n",
              "      <td>sedan</td>\n",
              "      <td>fwd</td>\n",
              "      <td>front</td>\n",
              "      <td>99.8</td>\n",
              "      <td>176.6</td>\n",
              "      <td>66.2</td>\n",
              "      <td>54.3</td>\n",
              "      <td>2337</td>\n",
              "      <td>ohc</td>\n",
              "      <td>four</td>\n",
              "      <td>109</td>\n",
              "      <td>mpfi</td>\n",
              "      <td>3.19</td>\n",
              "      <td>3.4</td>\n",
              "      <td>10.0</td>\n",
              "      <td>102</td>\n",
              "      <td>5500</td>\n",
              "      <td>24</td>\n",
              "      <td>30</td>\n",
              "      <td>13950</td>\n",
              "    </tr>\n",
              "    <tr>\n",
              "      <th>4</th>\n",
              "      <td>2</td>\n",
              "      <td>164</td>\n",
              "      <td>audi</td>\n",
              "      <td>gas</td>\n",
              "      <td>std</td>\n",
              "      <td>four</td>\n",
              "      <td>sedan</td>\n",
              "      <td>4wd</td>\n",
              "      <td>front</td>\n",
              "      <td>99.4</td>\n",
              "      <td>176.6</td>\n",
              "      <td>66.4</td>\n",
              "      <td>54.3</td>\n",
              "      <td>2824</td>\n",
              "      <td>ohc</td>\n",
              "      <td>five</td>\n",
              "      <td>136</td>\n",
              "      <td>mpfi</td>\n",
              "      <td>3.19</td>\n",
              "      <td>3.4</td>\n",
              "      <td>8.0</td>\n",
              "      <td>115</td>\n",
              "      <td>5500</td>\n",
              "      <td>18</td>\n",
              "      <td>22</td>\n",
              "      <td>17450</td>\n",
              "    </tr>\n",
              "  </tbody>\n",
              "</table>\n",
              "</div>"
            ],
            "text/plain": [
              "   symboling normalized_losses         make  ... city_mpg highway_mpg  price\n",
              "0          3                 ?  alfa-romero  ...       21          27  13495\n",
              "1          3                 ?  alfa-romero  ...       21          27  16500\n",
              "2          1                 ?  alfa-romero  ...       19          26  16500\n",
              "3          2               164         audi  ...       24          30  13950\n",
              "4          2               164         audi  ...       18          22  17450\n",
              "\n",
              "[5 rows x 26 columns]"
            ]
          },
          "metadata": {
            "tags": []
          },
          "execution_count": 5
        }
      ]
    },
    {
      "cell_type": "code",
      "metadata": {
        "id": "xrGY9QOpOiQ3",
        "colab_type": "code",
        "outputId": "b4bba618-0709-487c-ebbe-eb0b5ff5ba8f",
        "colab": {
          "base_uri": "https://localhost:8080/",
          "height": 35
        }
      },
      "source": [
        "df.shape"
      ],
      "execution_count": 6,
      "outputs": [
        {
          "output_type": "execute_result",
          "data": {
            "text/plain": [
              "(205, 26)"
            ]
          },
          "metadata": {
            "tags": []
          },
          "execution_count": 6
        }
      ]
    },
    {
      "cell_type": "code",
      "metadata": {
        "id": "qXXbQFEzQ8uD",
        "colab_type": "code",
        "outputId": "35faa7fb-956e-474a-fe8e-3d04e1fc9759",
        "colab": {
          "base_uri": "https://localhost:8080/",
          "height": 35
        }
      },
      "source": [
        "df.symboling.unique()"
      ],
      "execution_count": 7,
      "outputs": [
        {
          "output_type": "execute_result",
          "data": {
            "text/plain": [
              "array([ 3,  1,  2,  0, -1, -2])"
            ]
          },
          "metadata": {
            "tags": []
          },
          "execution_count": 7
        }
      ]
    },
    {
      "cell_type": "code",
      "metadata": {
        "id": "OKhAJz-ER2O9",
        "colab_type": "code",
        "outputId": "a8dbb243-eea4-4759-ea80-18b86ad1d4b7",
        "colab": {
          "base_uri": "https://localhost:8080/",
          "height": 124
        }
      },
      "source": [
        "df.normalized_losses.unique()"
      ],
      "execution_count": 8,
      "outputs": [
        {
          "output_type": "execute_result",
          "data": {
            "text/plain": [
              "array(['?', '164', '158', '192', '188', '121', '98', '81', '118', '148',\n",
              "       '110', '145', '137', '101', '78', '106', '85', '107', '104', '113',\n",
              "       '150', '129', '115', '93', '142', '161', '153', '125', '128',\n",
              "       '122', '103', '168', '108', '194', '231', '119', '154', '74',\n",
              "       '186', '83', '102', '89', '87', '77', '91', '134', '65', '197',\n",
              "       '90', '94', '256', '95'], dtype=object)"
            ]
          },
          "metadata": {
            "tags": []
          },
          "execution_count": 8
        }
      ]
    },
    {
      "cell_type": "code",
      "metadata": {
        "id": "pjPsR6oSXBET",
        "colab_type": "code",
        "colab": {}
      },
      "source": [
        "df = df.replace(\"?\",None)\n",
        "df[\"normalized_losses\"] = df[\"normalized_losses\"].replace('?',np.NaN)"
      ],
      "execution_count": 0,
      "outputs": []
    },
    {
      "cell_type": "code",
      "metadata": {
        "id": "uNXqrecFVYhI",
        "colab_type": "code",
        "colab": {}
      },
      "source": [
        "df['normalized_losses'] = df['normalized_losses'].astype(\"float64\")\n",
        "df['stroke'] = df['stroke'].astype(\"float64\")\n",
        "df['horsepower'] = df['horsepower'].astype(\"float64\")\n",
        "df['peak_rpm'] = df['peak_rpm'].astype(\"int64\")\n",
        "df['price'] = df['price'].astype(\"float64\")"
      ],
      "execution_count": 0,
      "outputs": []
    },
    {
      "cell_type": "code",
      "metadata": {
        "id": "8SXZ0sZbilyr",
        "colab_type": "code",
        "colab": {}
      },
      "source": [
        "df[\"normalized_losses\"] = df[\"normalized_losses\"].replace(np.NaN,0)\n",
        "df[\"normalized_losses\"] = df[\"normalized_losses\"].replace(0,df.mean().normalized_losses)"
      ],
      "execution_count": 0,
      "outputs": []
    },
    {
      "cell_type": "code",
      "metadata": {
        "id": "xFnT0CaGXnCZ",
        "colab_type": "code",
        "outputId": "b285dbe5-0f16-4620-d6a1-ccc5bba15cc9",
        "colab": {
          "base_uri": "https://localhost:8080/",
          "height": 470
        }
      },
      "source": [
        "df"
      ],
      "execution_count": 12,
      "outputs": [
        {
          "output_type": "execute_result",
          "data": {
            "text/html": [
              "<div>\n",
              "<style scoped>\n",
              "    .dataframe tbody tr th:only-of-type {\n",
              "        vertical-align: middle;\n",
              "    }\n",
              "\n",
              "    .dataframe tbody tr th {\n",
              "        vertical-align: top;\n",
              "    }\n",
              "\n",
              "    .dataframe thead th {\n",
              "        text-align: right;\n",
              "    }\n",
              "</style>\n",
              "<table border=\"1\" class=\"dataframe\">\n",
              "  <thead>\n",
              "    <tr style=\"text-align: right;\">\n",
              "      <th></th>\n",
              "      <th>symboling</th>\n",
              "      <th>normalized_losses</th>\n",
              "      <th>make</th>\n",
              "      <th>fuel_type</th>\n",
              "      <th>aspiration</th>\n",
              "      <th>num_of_doors</th>\n",
              "      <th>body_style</th>\n",
              "      <th>drive_wheels</th>\n",
              "      <th>engine_location</th>\n",
              "      <th>wheel_base</th>\n",
              "      <th>length</th>\n",
              "      <th>width</th>\n",
              "      <th>height</th>\n",
              "      <th>curb_weight</th>\n",
              "      <th>engine_type</th>\n",
              "      <th>num_of_cylinders</th>\n",
              "      <th>engine_size</th>\n",
              "      <th>fuel_system</th>\n",
              "      <th>bore</th>\n",
              "      <th>stroke</th>\n",
              "      <th>compression_ratio</th>\n",
              "      <th>horsepower</th>\n",
              "      <th>peak_rpm</th>\n",
              "      <th>city_mpg</th>\n",
              "      <th>highway_mpg</th>\n",
              "      <th>price</th>\n",
              "    </tr>\n",
              "  </thead>\n",
              "  <tbody>\n",
              "    <tr>\n",
              "      <th>0</th>\n",
              "      <td>3</td>\n",
              "      <td>126.609756</td>\n",
              "      <td>alfa-romero</td>\n",
              "      <td>gas</td>\n",
              "      <td>std</td>\n",
              "      <td>two</td>\n",
              "      <td>convertible</td>\n",
              "      <td>rwd</td>\n",
              "      <td>front</td>\n",
              "      <td>88.6</td>\n",
              "      <td>168.8</td>\n",
              "      <td>64.1</td>\n",
              "      <td>48.8</td>\n",
              "      <td>2548</td>\n",
              "      <td>dohc</td>\n",
              "      <td>four</td>\n",
              "      <td>130</td>\n",
              "      <td>mpfi</td>\n",
              "      <td>3.47</td>\n",
              "      <td>2.68</td>\n",
              "      <td>9.0</td>\n",
              "      <td>111.0</td>\n",
              "      <td>5000</td>\n",
              "      <td>21</td>\n",
              "      <td>27</td>\n",
              "      <td>13495.0</td>\n",
              "    </tr>\n",
              "    <tr>\n",
              "      <th>1</th>\n",
              "      <td>3</td>\n",
              "      <td>126.609756</td>\n",
              "      <td>alfa-romero</td>\n",
              "      <td>gas</td>\n",
              "      <td>std</td>\n",
              "      <td>two</td>\n",
              "      <td>convertible</td>\n",
              "      <td>rwd</td>\n",
              "      <td>front</td>\n",
              "      <td>88.6</td>\n",
              "      <td>168.8</td>\n",
              "      <td>64.1</td>\n",
              "      <td>48.8</td>\n",
              "      <td>2548</td>\n",
              "      <td>dohc</td>\n",
              "      <td>four</td>\n",
              "      <td>130</td>\n",
              "      <td>mpfi</td>\n",
              "      <td>3.47</td>\n",
              "      <td>2.68</td>\n",
              "      <td>9.0</td>\n",
              "      <td>111.0</td>\n",
              "      <td>5000</td>\n",
              "      <td>21</td>\n",
              "      <td>27</td>\n",
              "      <td>16500.0</td>\n",
              "    </tr>\n",
              "    <tr>\n",
              "      <th>2</th>\n",
              "      <td>1</td>\n",
              "      <td>126.609756</td>\n",
              "      <td>alfa-romero</td>\n",
              "      <td>gas</td>\n",
              "      <td>std</td>\n",
              "      <td>two</td>\n",
              "      <td>hatchback</td>\n",
              "      <td>rwd</td>\n",
              "      <td>front</td>\n",
              "      <td>94.5</td>\n",
              "      <td>171.2</td>\n",
              "      <td>65.5</td>\n",
              "      <td>52.4</td>\n",
              "      <td>2823</td>\n",
              "      <td>ohcv</td>\n",
              "      <td>six</td>\n",
              "      <td>152</td>\n",
              "      <td>mpfi</td>\n",
              "      <td>2.68</td>\n",
              "      <td>3.47</td>\n",
              "      <td>9.0</td>\n",
              "      <td>154.0</td>\n",
              "      <td>5000</td>\n",
              "      <td>19</td>\n",
              "      <td>26</td>\n",
              "      <td>16500.0</td>\n",
              "    </tr>\n",
              "    <tr>\n",
              "      <th>3</th>\n",
              "      <td>2</td>\n",
              "      <td>164.000000</td>\n",
              "      <td>audi</td>\n",
              "      <td>gas</td>\n",
              "      <td>std</td>\n",
              "      <td>four</td>\n",
              "      <td>sedan</td>\n",
              "      <td>fwd</td>\n",
              "      <td>front</td>\n",
              "      <td>99.8</td>\n",
              "      <td>176.6</td>\n",
              "      <td>66.2</td>\n",
              "      <td>54.3</td>\n",
              "      <td>2337</td>\n",
              "      <td>ohc</td>\n",
              "      <td>four</td>\n",
              "      <td>109</td>\n",
              "      <td>mpfi</td>\n",
              "      <td>3.19</td>\n",
              "      <td>3.40</td>\n",
              "      <td>10.0</td>\n",
              "      <td>102.0</td>\n",
              "      <td>5500</td>\n",
              "      <td>24</td>\n",
              "      <td>30</td>\n",
              "      <td>13950.0</td>\n",
              "    </tr>\n",
              "    <tr>\n",
              "      <th>4</th>\n",
              "      <td>2</td>\n",
              "      <td>164.000000</td>\n",
              "      <td>audi</td>\n",
              "      <td>gas</td>\n",
              "      <td>std</td>\n",
              "      <td>four</td>\n",
              "      <td>sedan</td>\n",
              "      <td>4wd</td>\n",
              "      <td>front</td>\n",
              "      <td>99.4</td>\n",
              "      <td>176.6</td>\n",
              "      <td>66.4</td>\n",
              "      <td>54.3</td>\n",
              "      <td>2824</td>\n",
              "      <td>ohc</td>\n",
              "      <td>five</td>\n",
              "      <td>136</td>\n",
              "      <td>mpfi</td>\n",
              "      <td>3.19</td>\n",
              "      <td>3.40</td>\n",
              "      <td>8.0</td>\n",
              "      <td>115.0</td>\n",
              "      <td>5500</td>\n",
              "      <td>18</td>\n",
              "      <td>22</td>\n",
              "      <td>17450.0</td>\n",
              "    </tr>\n",
              "    <tr>\n",
              "      <th>...</th>\n",
              "      <td>...</td>\n",
              "      <td>...</td>\n",
              "      <td>...</td>\n",
              "      <td>...</td>\n",
              "      <td>...</td>\n",
              "      <td>...</td>\n",
              "      <td>...</td>\n",
              "      <td>...</td>\n",
              "      <td>...</td>\n",
              "      <td>...</td>\n",
              "      <td>...</td>\n",
              "      <td>...</td>\n",
              "      <td>...</td>\n",
              "      <td>...</td>\n",
              "      <td>...</td>\n",
              "      <td>...</td>\n",
              "      <td>...</td>\n",
              "      <td>...</td>\n",
              "      <td>...</td>\n",
              "      <td>...</td>\n",
              "      <td>...</td>\n",
              "      <td>...</td>\n",
              "      <td>...</td>\n",
              "      <td>...</td>\n",
              "      <td>...</td>\n",
              "      <td>...</td>\n",
              "    </tr>\n",
              "    <tr>\n",
              "      <th>200</th>\n",
              "      <td>-1</td>\n",
              "      <td>95.000000</td>\n",
              "      <td>volvo</td>\n",
              "      <td>gas</td>\n",
              "      <td>std</td>\n",
              "      <td>four</td>\n",
              "      <td>sedan</td>\n",
              "      <td>rwd</td>\n",
              "      <td>front</td>\n",
              "      <td>109.1</td>\n",
              "      <td>188.8</td>\n",
              "      <td>68.9</td>\n",
              "      <td>55.5</td>\n",
              "      <td>2952</td>\n",
              "      <td>ohc</td>\n",
              "      <td>four</td>\n",
              "      <td>141</td>\n",
              "      <td>mpfi</td>\n",
              "      <td>3.78</td>\n",
              "      <td>3.15</td>\n",
              "      <td>9.5</td>\n",
              "      <td>114.0</td>\n",
              "      <td>5400</td>\n",
              "      <td>23</td>\n",
              "      <td>28</td>\n",
              "      <td>16845.0</td>\n",
              "    </tr>\n",
              "    <tr>\n",
              "      <th>201</th>\n",
              "      <td>-1</td>\n",
              "      <td>95.000000</td>\n",
              "      <td>volvo</td>\n",
              "      <td>gas</td>\n",
              "      <td>turbo</td>\n",
              "      <td>four</td>\n",
              "      <td>sedan</td>\n",
              "      <td>rwd</td>\n",
              "      <td>front</td>\n",
              "      <td>109.1</td>\n",
              "      <td>188.8</td>\n",
              "      <td>68.8</td>\n",
              "      <td>55.5</td>\n",
              "      <td>3049</td>\n",
              "      <td>ohc</td>\n",
              "      <td>four</td>\n",
              "      <td>141</td>\n",
              "      <td>mpfi</td>\n",
              "      <td>3.78</td>\n",
              "      <td>3.15</td>\n",
              "      <td>8.7</td>\n",
              "      <td>160.0</td>\n",
              "      <td>5300</td>\n",
              "      <td>19</td>\n",
              "      <td>25</td>\n",
              "      <td>19045.0</td>\n",
              "    </tr>\n",
              "    <tr>\n",
              "      <th>202</th>\n",
              "      <td>-1</td>\n",
              "      <td>95.000000</td>\n",
              "      <td>volvo</td>\n",
              "      <td>gas</td>\n",
              "      <td>std</td>\n",
              "      <td>four</td>\n",
              "      <td>sedan</td>\n",
              "      <td>rwd</td>\n",
              "      <td>front</td>\n",
              "      <td>109.1</td>\n",
              "      <td>188.8</td>\n",
              "      <td>68.9</td>\n",
              "      <td>55.5</td>\n",
              "      <td>3012</td>\n",
              "      <td>ohcv</td>\n",
              "      <td>six</td>\n",
              "      <td>173</td>\n",
              "      <td>mpfi</td>\n",
              "      <td>3.58</td>\n",
              "      <td>2.87</td>\n",
              "      <td>8.8</td>\n",
              "      <td>134.0</td>\n",
              "      <td>5500</td>\n",
              "      <td>18</td>\n",
              "      <td>23</td>\n",
              "      <td>21485.0</td>\n",
              "    </tr>\n",
              "    <tr>\n",
              "      <th>203</th>\n",
              "      <td>-1</td>\n",
              "      <td>95.000000</td>\n",
              "      <td>volvo</td>\n",
              "      <td>diesel</td>\n",
              "      <td>turbo</td>\n",
              "      <td>four</td>\n",
              "      <td>sedan</td>\n",
              "      <td>rwd</td>\n",
              "      <td>front</td>\n",
              "      <td>109.1</td>\n",
              "      <td>188.8</td>\n",
              "      <td>68.9</td>\n",
              "      <td>55.5</td>\n",
              "      <td>3217</td>\n",
              "      <td>ohc</td>\n",
              "      <td>six</td>\n",
              "      <td>145</td>\n",
              "      <td>idi</td>\n",
              "      <td>3.01</td>\n",
              "      <td>3.40</td>\n",
              "      <td>23.0</td>\n",
              "      <td>106.0</td>\n",
              "      <td>4800</td>\n",
              "      <td>26</td>\n",
              "      <td>27</td>\n",
              "      <td>22470.0</td>\n",
              "    </tr>\n",
              "    <tr>\n",
              "      <th>204</th>\n",
              "      <td>-1</td>\n",
              "      <td>95.000000</td>\n",
              "      <td>volvo</td>\n",
              "      <td>gas</td>\n",
              "      <td>turbo</td>\n",
              "      <td>four</td>\n",
              "      <td>sedan</td>\n",
              "      <td>rwd</td>\n",
              "      <td>front</td>\n",
              "      <td>109.1</td>\n",
              "      <td>188.8</td>\n",
              "      <td>68.9</td>\n",
              "      <td>55.5</td>\n",
              "      <td>3062</td>\n",
              "      <td>ohc</td>\n",
              "      <td>four</td>\n",
              "      <td>141</td>\n",
              "      <td>mpfi</td>\n",
              "      <td>3.78</td>\n",
              "      <td>3.15</td>\n",
              "      <td>9.5</td>\n",
              "      <td>114.0</td>\n",
              "      <td>5400</td>\n",
              "      <td>19</td>\n",
              "      <td>25</td>\n",
              "      <td>22625.0</td>\n",
              "    </tr>\n",
              "  </tbody>\n",
              "</table>\n",
              "<p>205 rows × 26 columns</p>\n",
              "</div>"
            ],
            "text/plain": [
              "     symboling  normalized_losses         make  ... city_mpg highway_mpg    price\n",
              "0            3         126.609756  alfa-romero  ...       21          27  13495.0\n",
              "1            3         126.609756  alfa-romero  ...       21          27  16500.0\n",
              "2            1         126.609756  alfa-romero  ...       19          26  16500.0\n",
              "3            2         164.000000         audi  ...       24          30  13950.0\n",
              "4            2         164.000000         audi  ...       18          22  17450.0\n",
              "..         ...                ...          ...  ...      ...         ...      ...\n",
              "200         -1          95.000000        volvo  ...       23          28  16845.0\n",
              "201         -1          95.000000        volvo  ...       19          25  19045.0\n",
              "202         -1          95.000000        volvo  ...       18          23  21485.0\n",
              "203         -1          95.000000        volvo  ...       26          27  22470.0\n",
              "204         -1          95.000000        volvo  ...       19          25  22625.0\n",
              "\n",
              "[205 rows x 26 columns]"
            ]
          },
          "metadata": {
            "tags": []
          },
          "execution_count": 12
        }
      ]
    },
    {
      "cell_type": "code",
      "metadata": {
        "id": "Ss3ImhZPayRZ",
        "colab_type": "code",
        "outputId": "463bfb05-564d-48ac-fd1d-bfcef1182181",
        "colab": {
          "base_uri": "https://localhost:8080/",
          "height": 568
        }
      },
      "source": [
        "df.info()"
      ],
      "execution_count": 13,
      "outputs": [
        {
          "output_type": "stream",
          "text": [
            "<class 'pandas.core.frame.DataFrame'>\n",
            "RangeIndex: 205 entries, 0 to 204\n",
            "Data columns (total 26 columns):\n",
            "symboling            205 non-null int64\n",
            "normalized_losses    205 non-null float64\n",
            "make                 205 non-null object\n",
            "fuel_type            205 non-null object\n",
            "aspiration           205 non-null object\n",
            "num_of_doors         205 non-null object\n",
            "body_style           205 non-null object\n",
            "drive_wheels         205 non-null object\n",
            "engine_location      205 non-null object\n",
            "wheel_base           205 non-null float64\n",
            "length               205 non-null float64\n",
            "width                205 non-null float64\n",
            "height               205 non-null float64\n",
            "curb_weight          205 non-null int64\n",
            "engine_type          205 non-null object\n",
            "num_of_cylinders     205 non-null object\n",
            "engine_size          205 non-null int64\n",
            "fuel_system          205 non-null object\n",
            "bore                 205 non-null object\n",
            "stroke               205 non-null float64\n",
            "compression_ratio    205 non-null float64\n",
            "horsepower           205 non-null float64\n",
            "peak_rpm             205 non-null int64\n",
            "city_mpg             205 non-null int64\n",
            "highway_mpg          205 non-null int64\n",
            "price                205 non-null float64\n",
            "dtypes: float64(9), int64(6), object(11)\n",
            "memory usage: 41.8+ KB\n"
          ],
          "name": "stdout"
        }
      ]
    },
    {
      "cell_type": "code",
      "metadata": {
        "id": "La6FF2YebMbj",
        "colab_type": "code",
        "outputId": "ffb762a1-6fb9-47fb-ac97-0af512cb164a",
        "colab": {
          "base_uri": "https://localhost:8080/",
          "height": 282
        }
      },
      "source": [
        "df.describe()"
      ],
      "execution_count": 14,
      "outputs": [
        {
          "output_type": "execute_result",
          "data": {
            "text/html": [
              "<div>\n",
              "<style scoped>\n",
              "    .dataframe tbody tr th:only-of-type {\n",
              "        vertical-align: middle;\n",
              "    }\n",
              "\n",
              "    .dataframe tbody tr th {\n",
              "        vertical-align: top;\n",
              "    }\n",
              "\n",
              "    .dataframe thead th {\n",
              "        text-align: right;\n",
              "    }\n",
              "</style>\n",
              "<table border=\"1\" class=\"dataframe\">\n",
              "  <thead>\n",
              "    <tr style=\"text-align: right;\">\n",
              "      <th></th>\n",
              "      <th>symboling</th>\n",
              "      <th>normalized_losses</th>\n",
              "      <th>wheel_base</th>\n",
              "      <th>length</th>\n",
              "      <th>width</th>\n",
              "      <th>height</th>\n",
              "      <th>curb_weight</th>\n",
              "      <th>engine_size</th>\n",
              "      <th>stroke</th>\n",
              "      <th>compression_ratio</th>\n",
              "      <th>horsepower</th>\n",
              "      <th>peak_rpm</th>\n",
              "      <th>city_mpg</th>\n",
              "      <th>highway_mpg</th>\n",
              "      <th>price</th>\n",
              "    </tr>\n",
              "  </thead>\n",
              "  <tbody>\n",
              "    <tr>\n",
              "      <th>count</th>\n",
              "      <td>205.000000</td>\n",
              "      <td>205.000000</td>\n",
              "      <td>205.000000</td>\n",
              "      <td>205.000000</td>\n",
              "      <td>205.000000</td>\n",
              "      <td>205.000000</td>\n",
              "      <td>205.000000</td>\n",
              "      <td>205.000000</td>\n",
              "      <td>205.000000</td>\n",
              "      <td>205.000000</td>\n",
              "      <td>205.000000</td>\n",
              "      <td>205.000000</td>\n",
              "      <td>205.000000</td>\n",
              "      <td>205.000000</td>\n",
              "      <td>205.000000</td>\n",
              "    </tr>\n",
              "    <tr>\n",
              "      <th>mean</th>\n",
              "      <td>0.834146</td>\n",
              "      <td>128.462582</td>\n",
              "      <td>98.756585</td>\n",
              "      <td>174.049268</td>\n",
              "      <td>65.907805</td>\n",
              "      <td>53.724878</td>\n",
              "      <td>2555.565854</td>\n",
              "      <td>126.907317</td>\n",
              "      <td>3.253366</td>\n",
              "      <td>10.142537</td>\n",
              "      <td>106.048780</td>\n",
              "      <td>5131.463415</td>\n",
              "      <td>25.219512</td>\n",
              "      <td>30.751220</td>\n",
              "      <td>13312.712195</td>\n",
              "    </tr>\n",
              "    <tr>\n",
              "      <th>std</th>\n",
              "      <td>1.245307</td>\n",
              "      <td>39.209151</td>\n",
              "      <td>6.021776</td>\n",
              "      <td>12.337289</td>\n",
              "      <td>2.145204</td>\n",
              "      <td>2.443522</td>\n",
              "      <td>520.680204</td>\n",
              "      <td>41.642693</td>\n",
              "      <td>0.313937</td>\n",
              "      <td>3.972040</td>\n",
              "      <td>43.468803</td>\n",
              "      <td>480.933330</td>\n",
              "      <td>6.542142</td>\n",
              "      <td>6.886443</td>\n",
              "      <td>8102.472461</td>\n",
              "    </tr>\n",
              "    <tr>\n",
              "      <th>min</th>\n",
              "      <td>-2.000000</td>\n",
              "      <td>65.000000</td>\n",
              "      <td>86.600000</td>\n",
              "      <td>141.100000</td>\n",
              "      <td>60.300000</td>\n",
              "      <td>47.800000</td>\n",
              "      <td>1488.000000</td>\n",
              "      <td>61.000000</td>\n",
              "      <td>2.070000</td>\n",
              "      <td>7.000000</td>\n",
              "      <td>48.000000</td>\n",
              "      <td>4150.000000</td>\n",
              "      <td>13.000000</td>\n",
              "      <td>16.000000</td>\n",
              "      <td>5118.000000</td>\n",
              "    </tr>\n",
              "    <tr>\n",
              "      <th>25%</th>\n",
              "      <td>0.000000</td>\n",
              "      <td>95.000000</td>\n",
              "      <td>94.500000</td>\n",
              "      <td>166.300000</td>\n",
              "      <td>64.100000</td>\n",
              "      <td>52.000000</td>\n",
              "      <td>2145.000000</td>\n",
              "      <td>97.000000</td>\n",
              "      <td>3.110000</td>\n",
              "      <td>8.600000</td>\n",
              "      <td>70.000000</td>\n",
              "      <td>4800.000000</td>\n",
              "      <td>19.000000</td>\n",
              "      <td>25.000000</td>\n",
              "      <td>7775.000000</td>\n",
              "    </tr>\n",
              "    <tr>\n",
              "      <th>50%</th>\n",
              "      <td>1.000000</td>\n",
              "      <td>122.000000</td>\n",
              "      <td>97.000000</td>\n",
              "      <td>173.200000</td>\n",
              "      <td>65.500000</td>\n",
              "      <td>54.100000</td>\n",
              "      <td>2414.000000</td>\n",
              "      <td>120.000000</td>\n",
              "      <td>3.290000</td>\n",
              "      <td>9.000000</td>\n",
              "      <td>95.000000</td>\n",
              "      <td>5200.000000</td>\n",
              "      <td>24.000000</td>\n",
              "      <td>30.000000</td>\n",
              "      <td>10295.000000</td>\n",
              "    </tr>\n",
              "    <tr>\n",
              "      <th>75%</th>\n",
              "      <td>2.000000</td>\n",
              "      <td>154.000000</td>\n",
              "      <td>102.400000</td>\n",
              "      <td>183.100000</td>\n",
              "      <td>66.900000</td>\n",
              "      <td>55.500000</td>\n",
              "      <td>2935.000000</td>\n",
              "      <td>141.000000</td>\n",
              "      <td>3.410000</td>\n",
              "      <td>9.400000</td>\n",
              "      <td>120.000000</td>\n",
              "      <td>5500.000000</td>\n",
              "      <td>30.000000</td>\n",
              "      <td>34.000000</td>\n",
              "      <td>16503.000000</td>\n",
              "    </tr>\n",
              "    <tr>\n",
              "      <th>max</th>\n",
              "      <td>3.000000</td>\n",
              "      <td>256.000000</td>\n",
              "      <td>120.900000</td>\n",
              "      <td>208.100000</td>\n",
              "      <td>72.300000</td>\n",
              "      <td>59.800000</td>\n",
              "      <td>4066.000000</td>\n",
              "      <td>326.000000</td>\n",
              "      <td>4.170000</td>\n",
              "      <td>23.000000</td>\n",
              "      <td>288.000000</td>\n",
              "      <td>6600.000000</td>\n",
              "      <td>49.000000</td>\n",
              "      <td>54.000000</td>\n",
              "      <td>45400.000000</td>\n",
              "    </tr>\n",
              "  </tbody>\n",
              "</table>\n",
              "</div>"
            ],
            "text/plain": [
              "        symboling  normalized_losses  ...  highway_mpg         price\n",
              "count  205.000000         205.000000  ...   205.000000    205.000000\n",
              "mean     0.834146         128.462582  ...    30.751220  13312.712195\n",
              "std      1.245307          39.209151  ...     6.886443   8102.472461\n",
              "min     -2.000000          65.000000  ...    16.000000   5118.000000\n",
              "25%      0.000000          95.000000  ...    25.000000   7775.000000\n",
              "50%      1.000000         122.000000  ...    30.000000  10295.000000\n",
              "75%      2.000000         154.000000  ...    34.000000  16503.000000\n",
              "max      3.000000         256.000000  ...    54.000000  45400.000000\n",
              "\n",
              "[8 rows x 15 columns]"
            ]
          },
          "metadata": {
            "tags": []
          },
          "execution_count": 14
        }
      ]
    },
    {
      "cell_type": "code",
      "metadata": {
        "id": "zb3smAaUbWsu",
        "colab_type": "code",
        "outputId": "5899fc93-19c0-4e2e-94b0-480e21f480d6",
        "colab": {
          "base_uri": "https://localhost:8080/",
          "height": 568
        }
      },
      "source": [
        "df.info()"
      ],
      "execution_count": 15,
      "outputs": [
        {
          "output_type": "stream",
          "text": [
            "<class 'pandas.core.frame.DataFrame'>\n",
            "RangeIndex: 205 entries, 0 to 204\n",
            "Data columns (total 26 columns):\n",
            "symboling            205 non-null int64\n",
            "normalized_losses    205 non-null float64\n",
            "make                 205 non-null object\n",
            "fuel_type            205 non-null object\n",
            "aspiration           205 non-null object\n",
            "num_of_doors         205 non-null object\n",
            "body_style           205 non-null object\n",
            "drive_wheels         205 non-null object\n",
            "engine_location      205 non-null object\n",
            "wheel_base           205 non-null float64\n",
            "length               205 non-null float64\n",
            "width                205 non-null float64\n",
            "height               205 non-null float64\n",
            "curb_weight          205 non-null int64\n",
            "engine_type          205 non-null object\n",
            "num_of_cylinders     205 non-null object\n",
            "engine_size          205 non-null int64\n",
            "fuel_system          205 non-null object\n",
            "bore                 205 non-null object\n",
            "stroke               205 non-null float64\n",
            "compression_ratio    205 non-null float64\n",
            "horsepower           205 non-null float64\n",
            "peak_rpm             205 non-null int64\n",
            "city_mpg             205 non-null int64\n",
            "highway_mpg          205 non-null int64\n",
            "price                205 non-null float64\n",
            "dtypes: float64(9), int64(6), object(11)\n",
            "memory usage: 41.8+ KB\n"
          ],
          "name": "stdout"
        }
      ]
    },
    {
      "cell_type": "code",
      "metadata": {
        "id": "EP2jIual7bwM",
        "colab_type": "code",
        "outputId": "a3684ba3-9795-4d7c-cbf3-0f7df06061c4",
        "colab": {
          "base_uri": "https://localhost:8080/",
          "height": 949
        }
      },
      "source": [
        "plt.subplots(figsize=(20,15))\n",
        "sns.heatmap(df.corr(),annot=True)\n",
        "plt.show()"
      ],
      "execution_count": 16,
      "outputs": [
        {
          "output_type": "display_data",
          "data": {
            "image/png": "[encoded data removed]",
            "text/plain": [
              "<Figure size 1440x1080 with 2 Axes>"
            ]
          },
          "metadata": {
            "tags": []
          }
        }
      ]
    },
    {
      "cell_type": "code",
      "metadata": {
        "id": "SLxGeF3OuJxV",
        "colab_type": "code",
        "outputId": "2fee0679-9ef4-4071-9fd5-b5dc92be3e5e",
        "colab": {
          "base_uri": "https://localhost:8080/",
          "height": 470
        }
      },
      "source": [
        "odf = df.copy()\n",
        "odf"
      ],
      "execution_count": 17,
      "outputs": [
        {
          "output_type": "execute_result",
          "data": {
            "text/html": [
              "<div>\n",
              "<style scoped>\n",
              "    .dataframe tbody tr th:only-of-type {\n",
              "        vertical-align: middle;\n",
              "    }\n",
              "\n",
              "    .dataframe tbody tr th {\n",
              "        vertical-align: top;\n",
              "    }\n",
              "\n",
              "    .dataframe thead th {\n",
              "        text-align: right;\n",
              "    }\n",
              "</style>\n",
              "<table border=\"1\" class=\"dataframe\">\n",
              "  <thead>\n",
              "    <tr style=\"text-align: right;\">\n",
              "      <th></th>\n",
              "      <th>symboling</th>\n",
              "      <th>normalized_losses</th>\n",
              "      <th>make</th>\n",
              "      <th>fuel_type</th>\n",
              "      <th>aspiration</th>\n",
              "      <th>num_of_doors</th>\n",
              "      <th>body_style</th>\n",
              "      <th>drive_wheels</th>\n",
              "      <th>engine_location</th>\n",
              "      <th>wheel_base</th>\n",
              "      <th>length</th>\n",
              "      <th>width</th>\n",
              "      <th>height</th>\n",
              "      <th>curb_weight</th>\n",
              "      <th>engine_type</th>\n",
              "      <th>num_of_cylinders</th>\n",
              "      <th>engine_size</th>\n",
              "      <th>fuel_system</th>\n",
              "      <th>bore</th>\n",
              "      <th>stroke</th>\n",
              "      <th>compression_ratio</th>\n",
              "      <th>horsepower</th>\n",
              "      <th>peak_rpm</th>\n",
              "      <th>city_mpg</th>\n",
              "      <th>highway_mpg</th>\n",
              "      <th>price</th>\n",
              "    </tr>\n",
              "  </thead>\n",
              "  <tbody>\n",
              "    <tr>\n",
              "      <th>0</th>\n",
              "      <td>3</td>\n",
              "      <td>126.609756</td>\n",
              "      <td>alfa-romero</td>\n",
              "      <td>gas</td>\n",
              "      <td>std</td>\n",
              "      <td>two</td>\n",
              "      <td>convertible</td>\n",
              "      <td>rwd</td>\n",
              "      <td>front</td>\n",
              "      <td>88.6</td>\n",
              "      <td>168.8</td>\n",
              "      <td>64.1</td>\n",
              "      <td>48.8</td>\n",
              "      <td>2548</td>\n",
              "      <td>dohc</td>\n",
              "      <td>four</td>\n",
              "      <td>130</td>\n",
              "      <td>mpfi</td>\n",
              "      <td>3.47</td>\n",
              "      <td>2.68</td>\n",
              "      <td>9.0</td>\n",
              "      <td>111.0</td>\n",
              "      <td>5000</td>\n",
              "      <td>21</td>\n",
              "      <td>27</td>\n",
              "      <td>13495.0</td>\n",
              "    </tr>\n",
              "    <tr>\n",
              "      <th>1</th>\n",
              "      <td>3</td>\n",
              "      <td>126.609756</td>\n",
              "      <td>alfa-romero</td>\n",
              "      <td>gas</td>\n",
              "      <td>std</td>\n",
              "      <td>two</td>\n",
              "      <td>convertible</td>\n",
              "      <td>rwd</td>\n",
              "      <td>front</td>\n",
              "      <td>88.6</td>\n",
              "      <td>168.8</td>\n",
              "      <td>64.1</td>\n",
              "      <td>48.8</td>\n",
              "      <td>2548</td>\n",
              "      <td>dohc</td>\n",
              "      <td>four</td>\n",
              "      <td>130</td>\n",
              "      <td>mpfi</td>\n",
              "      <td>3.47</td>\n",
              "      <td>2.68</td>\n",
              "      <td>9.0</td>\n",
              "      <td>111.0</td>\n",
              "      <td>5000</td>\n",
              "      <td>21</td>\n",
              "      <td>27</td>\n",
              "      <td>16500.0</td>\n",
              "    </tr>\n",
              "    <tr>\n",
              "      <th>2</th>\n",
              "      <td>1</td>\n",
              "      <td>126.609756</td>\n",
              "      <td>alfa-romero</td>\n",
              "      <td>gas</td>\n",
              "      <td>std</td>\n",
              "      <td>two</td>\n",
              "      <td>hatchback</td>\n",
              "      <td>rwd</td>\n",
              "      <td>front</td>\n",
              "      <td>94.5</td>\n",
              "      <td>171.2</td>\n",
              "      <td>65.5</td>\n",
              "      <td>52.4</td>\n",
              "      <td>2823</td>\n",
              "      <td>ohcv</td>\n",
              "      <td>six</td>\n",
              "      <td>152</td>\n",
              "      <td>mpfi</td>\n",
              "      <td>2.68</td>\n",
              "      <td>3.47</td>\n",
              "      <td>9.0</td>\n",
              "      <td>154.0</td>\n",
              "      <td>5000</td>\n",
              "      <td>19</td>\n",
              "      <td>26</td>\n",
              "      <td>16500.0</td>\n",
              "    </tr>\n",
              "    <tr>\n",
              "      <th>3</th>\n",
              "      <td>2</td>\n",
              "      <td>164.000000</td>\n",
              "      <td>audi</td>\n",
              "      <td>gas</td>\n",
              "      <td>std</td>\n",
              "      <td>four</td>\n",
              "      <td>sedan</td>\n",
              "      <td>fwd</td>\n",
              "      <td>front</td>\n",
              "      <td>99.8</td>\n",
              "      <td>176.6</td>\n",
              "      <td>66.2</td>\n",
              "      <td>54.3</td>\n",
              "      <td>2337</td>\n",
              "      <td>ohc</td>\n",
              "      <td>four</td>\n",
              "      <td>109</td>\n",
              "      <td>mpfi</td>\n",
              "      <td>3.19</td>\n",
              "      <td>3.40</td>\n",
              "      <td>10.0</td>\n",
              "      <td>102.0</td>\n",
              "      <td>5500</td>\n",
              "      <td>24</td>\n",
              "      <td>30</td>\n",
              "      <td>13950.0</td>\n",
              "    </tr>\n",
              "    <tr>\n",
              "      <th>4</th>\n",
              "      <td>2</td>\n",
              "      <td>164.000000</td>\n",
              "      <td>audi</td>\n",
              "      <td>gas</td>\n",
              "      <td>std</td>\n",
              "      <td>four</td>\n",
              "      <td>sedan</td>\n",
              "      <td>4wd</td>\n",
              "      <td>front</td>\n",
              "      <td>99.4</td>\n",
              "      <td>176.6</td>\n",
              "      <td>66.4</td>\n",
              "      <td>54.3</td>\n",
              "      <td>2824</td>\n",
              "      <td>ohc</td>\n",
              "      <td>five</td>\n",
              "      <td>136</td>\n",
              "      <td>mpfi</td>\n",
              "      <td>3.19</td>\n",
              "      <td>3.40</td>\n",
              "      <td>8.0</td>\n",
              "      <td>115.0</td>\n",
              "      <td>5500</td>\n",
              "      <td>18</td>\n",
              "      <td>22</td>\n",
              "      <td>17450.0</td>\n",
              "    </tr>\n",
              "    <tr>\n",
              "      <th>...</th>\n",
              "      <td>...</td>\n",
              "      <td>...</td>\n",
              "      <td>...</td>\n",
              "      <td>...</td>\n",
              "      <td>...</td>\n",
              "      <td>...</td>\n",
              "      <td>...</td>\n",
              "      <td>...</td>\n",
              "      <td>...</td>\n",
              "      <td>...</td>\n",
              "      <td>...</td>\n",
              "      <td>...</td>\n",
              "      <td>...</td>\n",
              "      <td>...</td>\n",
              "      <td>...</td>\n",
              "      <td>...</td>\n",
              "      <td>...</td>\n",
              "      <td>...</td>\n",
              "      <td>...</td>\n",
              "      <td>...</td>\n",
              "      <td>...</td>\n",
              "      <td>...</td>\n",
              "      <td>...</td>\n",
              "      <td>...</td>\n",
              "      <td>...</td>\n",
              "      <td>...</td>\n",
              "    </tr>\n",
              "    <tr>\n",
              "      <th>200</th>\n",
              "      <td>-1</td>\n",
              "      <td>95.000000</td>\n",
              "      <td>volvo</td>\n",
              "      <td>gas</td>\n",
              "      <td>std</td>\n",
              "      <td>four</td>\n",
              "      <td>sedan</td>\n",
              "      <td>rwd</td>\n",
              "      <td>front</td>\n",
              "      <td>109.1</td>\n",
              "      <td>188.8</td>\n",
              "      <td>68.9</td>\n",
              "      <td>55.5</td>\n",
              "      <td>2952</td>\n",
              "      <td>ohc</td>\n",
              "      <td>four</td>\n",
              "      <td>141</td>\n",
              "      <td>mpfi</td>\n",
              "      <td>3.78</td>\n",
              "      <td>3.15</td>\n",
              "      <td>9.5</td>\n",
              "      <td>114.0</td>\n",
              "      <td>5400</td>\n",
              "      <td>23</td>\n",
              "      <td>28</td>\n",
              "      <td>16845.0</td>\n",
              "    </tr>\n",
              "    <tr>\n",
              "      <th>201</th>\n",
              "      <td>-1</td>\n",
              "      <td>95.000000</td>\n",
              "      <td>volvo</td>\n",
              "      <td>gas</td>\n",
              "      <td>turbo</td>\n",
              "      <td>four</td>\n",
              "      <td>sedan</td>\n",
              "      <td>rwd</td>\n",
              "      <td>front</td>\n",
              "      <td>109.1</td>\n",
              "      <td>188.8</td>\n",
              "      <td>68.8</td>\n",
              "      <td>55.5</td>\n",
              "      <td>3049</td>\n",
              "      <td>ohc</td>\n",
              "      <td>four</td>\n",
              "      <td>141</td>\n",
              "      <td>mpfi</td>\n",
              "      <td>3.78</td>\n",
              "      <td>3.15</td>\n",
              "      <td>8.7</td>\n",
              "      <td>160.0</td>\n",
              "      <td>5300</td>\n",
              "      <td>19</td>\n",
              "      <td>25</td>\n",
              "      <td>19045.0</td>\n",
              "    </tr>\n",
              "    <tr>\n",
              "      <th>202</th>\n",
              "      <td>-1</td>\n",
              "      <td>95.000000</td>\n",
              "      <td>volvo</td>\n",
              "      <td>gas</td>\n",
              "      <td>std</td>\n",
              "      <td>four</td>\n",
              "      <td>sedan</td>\n",
              "      <td>rwd</td>\n",
              "      <td>front</td>\n",
              "      <td>109.1</td>\n",
              "      <td>188.8</td>\n",
              "      <td>68.9</td>\n",
              "      <td>55.5</td>\n",
              "      <td>3012</td>\n",
              "      <td>ohcv</td>\n",
              "      <td>six</td>\n",
              "      <td>173</td>\n",
              "      <td>mpfi</td>\n",
              "      <td>3.58</td>\n",
              "      <td>2.87</td>\n",
              "      <td>8.8</td>\n",
              "      <td>134.0</td>\n",
              "      <td>5500</td>\n",
              "      <td>18</td>\n",
              "      <td>23</td>\n",
              "      <td>21485.0</td>\n",
              "    </tr>\n",
              "    <tr>\n",
              "      <th>203</th>\n",
              "      <td>-1</td>\n",
              "      <td>95.000000</td>\n",
              "      <td>volvo</td>\n",
              "      <td>diesel</td>\n",
              "      <td>turbo</td>\n",
              "      <td>four</td>\n",
              "      <td>sedan</td>\n",
              "      <td>rwd</td>\n",
              "      <td>front</td>\n",
              "      <td>109.1</td>\n",
              "      <td>188.8</td>\n",
              "      <td>68.9</td>\n",
              "      <td>55.5</td>\n",
              "      <td>3217</td>\n",
              "      <td>ohc</td>\n",
              "      <td>six</td>\n",
              "      <td>145</td>\n",
              "      <td>idi</td>\n",
              "      <td>3.01</td>\n",
              "      <td>3.40</td>\n",
              "      <td>23.0</td>\n",
              "      <td>106.0</td>\n",
              "      <td>4800</td>\n",
              "      <td>26</td>\n",
              "      <td>27</td>\n",
              "      <td>22470.0</td>\n",
              "    </tr>\n",
              "    <tr>\n",
              "      <th>204</th>\n",
              "      <td>-1</td>\n",
              "      <td>95.000000</td>\n",
              "      <td>volvo</td>\n",
              "      <td>gas</td>\n",
              "      <td>turbo</td>\n",
              "      <td>four</td>\n",
              "      <td>sedan</td>\n",
              "      <td>rwd</td>\n",
              "      <td>front</td>\n",
              "      <td>109.1</td>\n",
              "      <td>188.8</td>\n",
              "      <td>68.9</td>\n",
              "      <td>55.5</td>\n",
              "      <td>3062</td>\n",
              "      <td>ohc</td>\n",
              "      <td>four</td>\n",
              "      <td>141</td>\n",
              "      <td>mpfi</td>\n",
              "      <td>3.78</td>\n",
              "      <td>3.15</td>\n",
              "      <td>9.5</td>\n",
              "      <td>114.0</td>\n",
              "      <td>5400</td>\n",
              "      <td>19</td>\n",
              "      <td>25</td>\n",
              "      <td>22625.0</td>\n",
              "    </tr>\n",
              "  </tbody>\n",
              "</table>\n",
              "<p>205 rows × 26 columns</p>\n",
              "</div>"
            ],
            "text/plain": [
              "     symboling  normalized_losses         make  ... city_mpg highway_mpg    price\n",
              "0            3         126.609756  alfa-romero  ...       21          27  13495.0\n",
              "1            3         126.609756  alfa-romero  ...       21          27  16500.0\n",
              "2            1         126.609756  alfa-romero  ...       19          26  16500.0\n",
              "3            2         164.000000         audi  ...       24          30  13950.0\n",
              "4            2         164.000000         audi  ...       18          22  17450.0\n",
              "..         ...                ...          ...  ...      ...         ...      ...\n",
              "200         -1          95.000000        volvo  ...       23          28  16845.0\n",
              "201         -1          95.000000        volvo  ...       19          25  19045.0\n",
              "202         -1          95.000000        volvo  ...       18          23  21485.0\n",
              "203         -1          95.000000        volvo  ...       26          27  22470.0\n",
              "204         -1          95.000000        volvo  ...       19          25  22625.0\n",
              "\n",
              "[205 rows x 26 columns]"
            ]
          },
          "metadata": {
            "tags": []
          },
          "execution_count": 17
        }
      ]
    },
    {
      "cell_type": "code",
      "metadata": {
        "id": "ZqHjR-Bjeeky",
        "colab_type": "code",
        "outputId": "cdb0d3d6-1f59-400c-86c0-21aeeb2b817d",
        "colab": {
          "base_uri": "https://localhost:8080/",
          "height": 88
        }
      },
      "source": [
        "df.make.unique()"
      ],
      "execution_count": 18,
      "outputs": [
        {
          "output_type": "execute_result",
          "data": {
            "text/plain": [
              "array(['alfa-romero', 'audi', 'bmw', 'chevrolet', 'dodge', 'honda',\n",
              "       'isuzu', 'jaguar', 'mazda', 'mercedes-benz', 'mercury',\n",
              "       'mitsubishi', 'nissan', 'peugot', 'plymouth', 'porsche', 'renault',\n",
              "       'saab', 'subaru', 'toyota', 'volkswagen', 'volvo'], dtype=object)"
            ]
          },
          "metadata": {
            "tags": []
          },
          "execution_count": 18
        }
      ]
    },
    {
      "cell_type": "code",
      "metadata": {
        "id": "A-fZmv6Ces4d",
        "colab_type": "code",
        "colab": {}
      },
      "source": [
        "makeDict  = {\n",
        "    'alfa-romero' : 0,\n",
        "    'audi' : 1, \n",
        "    'bmw' : 2,\n",
        "    'chevrolet' : 3, \n",
        "    'dodge' : 4, \n",
        "    'honda' : 5,\n",
        "    'isuzu' : 6,\n",
        "    'jaguar' : 7, \n",
        "    'mazda' : 8, \n",
        "    'mercedes-benz' : 9, \n",
        "    'mercury' : 10,\n",
        "    'mitsubishi' : 11,\n",
        "    'nissan' : 12, \n",
        "    'peugot' : 13, \n",
        "    'plymouth' : 14, \n",
        "    'porsche' : 15,\n",
        "    'renault' : 16,\n",
        "    'saab' : 17,\n",
        "    'subaru' : 18,\n",
        "    'toyota' : 19,\n",
        "    'volkswagen' : 20,\n",
        "    'volvo' : 21\n",
        "}"
      ],
      "execution_count": 0,
      "outputs": []
    },
    {
      "cell_type": "code",
      "metadata": {
        "id": "uMCDMqWZvi_d",
        "colab_type": "code",
        "colab": {}
      },
      "source": [
        "df.make = [makeDict[item] for item in df.make]"
      ],
      "execution_count": 0,
      "outputs": []
    },
    {
      "cell_type": "code",
      "metadata": {
        "id": "Hl8HTWF3v2Wj",
        "colab_type": "code",
        "outputId": "c09db77b-efc1-4fa5-9880-af8873b4a670",
        "colab": {
          "base_uri": "https://localhost:8080/",
          "height": 35
        }
      },
      "source": [
        "df.fuel_type.unique()"
      ],
      "execution_count": 21,
      "outputs": [
        {
          "output_type": "execute_result",
          "data": {
            "text/plain": [
              "array(['gas', 'diesel'], dtype=object)"
            ]
          },
          "metadata": {
            "tags": []
          },
          "execution_count": 21
        }
      ]
    },
    {
      "cell_type": "code",
      "metadata": {
        "id": "wWyOCVsTwNKc",
        "colab_type": "code",
        "colab": {}
      },
      "source": [
        "fuel_typeDict = {\n",
        "    'gas' : 0,\n",
        "    'diesel' : 1\n",
        "}"
      ],
      "execution_count": 0,
      "outputs": []
    },
    {
      "cell_type": "code",
      "metadata": {
        "id": "8at7ZDOQwNSL",
        "colab_type": "code",
        "colab": {}
      },
      "source": [
        "df.fuel_type = [fuel_typeDict[item] for item in df.fuel_type]"
      ],
      "execution_count": 0,
      "outputs": []
    },
    {
      "cell_type": "code",
      "metadata": {
        "id": "QpZNILNj1ygi",
        "colab_type": "code",
        "outputId": "d7dc0831-7b51-4512-fd59-8fd24618169d",
        "colab": {
          "base_uri": "https://localhost:8080/",
          "height": 35
        }
      },
      "source": [
        "df.aspiration.unique()"
      ],
      "execution_count": 24,
      "outputs": [
        {
          "output_type": "execute_result",
          "data": {
            "text/plain": [
              "array(['std', 'turbo'], dtype=object)"
            ]
          },
          "metadata": {
            "tags": []
          },
          "execution_count": 24
        }
      ]
    },
    {
      "cell_type": "code",
      "metadata": {
        "id": "D-Acb1CA1yom",
        "colab_type": "code",
        "colab": {}
      },
      "source": [
        "aspirationDict = {\n",
        "    'std' : 0,\n",
        "    'turbo' : 1 \n",
        "}"
      ],
      "execution_count": 0,
      "outputs": []
    },
    {
      "cell_type": "code",
      "metadata": {
        "id": "203wn-b91yvG",
        "colab_type": "code",
        "colab": {}
      },
      "source": [
        "df.aspiration = [aspirationDict[item] for item in df.aspiration]"
      ],
      "execution_count": 0,
      "outputs": []
    },
    {
      "cell_type": "code",
      "metadata": {
        "id": "m_DOjYdUwNX9",
        "colab_type": "code",
        "outputId": "6fc891c9-ca8f-461e-e330-5f18155d8408",
        "colab": {
          "base_uri": "https://localhost:8080/",
          "height": 35
        }
      },
      "source": [
        "df.num_of_doors.unique()\n"
      ],
      "execution_count": 27,
      "outputs": [
        {
          "output_type": "execute_result",
          "data": {
            "text/plain": [
              "array(['two', 'four'], dtype=object)"
            ]
          },
          "metadata": {
            "tags": []
          },
          "execution_count": 27
        }
      ]
    },
    {
      "cell_type": "code",
      "metadata": {
        "id": "omFzP4Vmxp7S",
        "colab_type": "code",
        "colab": {}
      },
      "source": [
        "num_of_doorsDict = {\n",
        "    'two' : 2,\n",
        "    'four' : 4\n",
        "}"
      ],
      "execution_count": 0,
      "outputs": []
    },
    {
      "cell_type": "code",
      "metadata": {
        "id": "9dPUH37fyhWL",
        "colab_type": "code",
        "colab": {}
      },
      "source": [
        "df.num_of_doors = [num_of_doorsDict[item] for item in df.num_of_doors]\n",
        "odf.num_of_doors = [num_of_doorsDict[item] for item in odf.num_of_doors] "
      ],
      "execution_count": 0,
      "outputs": []
    },
    {
      "cell_type": "code",
      "metadata": {
        "id": "huun-YnJy6nZ",
        "colab_type": "code",
        "outputId": "def04655-9879-430e-9d93-6343793c8ba0",
        "colab": {
          "base_uri": "https://localhost:8080/",
          "height": 52
        }
      },
      "source": [
        "df.body_style.unique()"
      ],
      "execution_count": 30,
      "outputs": [
        {
          "output_type": "execute_result",
          "data": {
            "text/plain": [
              "array(['convertible', 'hatchback', 'sedan', 'wagon', 'hardtop'],\n",
              "      dtype=object)"
            ]
          },
          "metadata": {
            "tags": []
          },
          "execution_count": 30
        }
      ]
    },
    {
      "cell_type": "code",
      "metadata": {
        "id": "o_EhjVUczAls",
        "colab_type": "code",
        "colab": {}
      },
      "source": [
        "body_styleDict={\n",
        "    'convertible' : 0,\n",
        "    'hatchback' : 1,\n",
        "    'sedan' : 2,\n",
        "    'wagon' :3,\n",
        "    'hardtop' :4\n",
        "}"
      ],
      "execution_count": 0,
      "outputs": []
    },
    {
      "cell_type": "code",
      "metadata": {
        "id": "5YW-n4TazBKQ",
        "colab_type": "code",
        "colab": {}
      },
      "source": [
        "df.body_style = [body_styleDict[item] for item in df.body_style]"
      ],
      "execution_count": 0,
      "outputs": []
    },
    {
      "cell_type": "code",
      "metadata": {
        "id": "jLkFjmus2CxH",
        "colab_type": "code",
        "outputId": "d9ce2dc4-5f31-4b1c-cc29-7476ac2e430a",
        "colab": {
          "base_uri": "https://localhost:8080/",
          "height": 35
        }
      },
      "source": [
        "df.drive_wheels.unique()"
      ],
      "execution_count": 33,
      "outputs": [
        {
          "output_type": "execute_result",
          "data": {
            "text/plain": [
              "array(['rwd', 'fwd', '4wd'], dtype=object)"
            ]
          },
          "metadata": {
            "tags": []
          },
          "execution_count": 33
        }
      ]
    },
    {
      "cell_type": "code",
      "metadata": {
        "id": "CQHFBMKl2C2d",
        "colab_type": "code",
        "colab": {}
      },
      "source": [
        "drive_wheelsDict = {'rwd' : 0,\n",
        "                    'fwd' : 1,\n",
        "                    '4wd' : 2}"
      ],
      "execution_count": 0,
      "outputs": []
    },
    {
      "cell_type": "code",
      "metadata": {
        "id": "qwWnJmfm2C8L",
        "colab_type": "code",
        "colab": {}
      },
      "source": [
        "df.drive_wheels = [drive_wheelsDict[item] for item in df.drive_wheels]"
      ],
      "execution_count": 0,
      "outputs": []
    },
    {
      "cell_type": "code",
      "metadata": {
        "id": "TFgyo4RFzaYU",
        "colab_type": "code",
        "outputId": "a183761e-f850-458f-8a21-57f5745b745a",
        "colab": {
          "base_uri": "https://localhost:8080/",
          "height": 35
        }
      },
      "source": [
        "df.engine_location.unique()"
      ],
      "execution_count": 36,
      "outputs": [
        {
          "output_type": "execute_result",
          "data": {
            "text/plain": [
              "array(['front', 'rear'], dtype=object)"
            ]
          },
          "metadata": {
            "tags": []
          },
          "execution_count": 36
        }
      ]
    },
    {
      "cell_type": "code",
      "metadata": {
        "id": "cdyrMDvhzqcS",
        "colab_type": "code",
        "colab": {}
      },
      "source": [
        "engine_locationDict={\n",
        "    'front' : 0,\n",
        "    'rear' : 1\n",
        "}"
      ],
      "execution_count": 0,
      "outputs": []
    },
    {
      "cell_type": "code",
      "metadata": {
        "id": "HONWRRdMzzP0",
        "colab_type": "code",
        "colab": {}
      },
      "source": [
        "df.engine_location = [engine_locationDict[item] for item in df.engine_location]"
      ],
      "execution_count": 0,
      "outputs": []
    },
    {
      "cell_type": "code",
      "metadata": {
        "id": "qrMUAjmu2U8n",
        "colab_type": "code",
        "outputId": "4eb70920-919e-4eb4-928e-aa73a6cc6d96",
        "colab": {
          "base_uri": "https://localhost:8080/",
          "height": 35
        }
      },
      "source": [
        "df.engine_type.unique()"
      ],
      "execution_count": 39,
      "outputs": [
        {
          "output_type": "execute_result",
          "data": {
            "text/plain": [
              "array(['dohc', 'ohcv', 'ohc', 'l', 'rotor', 'ohcf', 'dohcv'], dtype=object)"
            ]
          },
          "metadata": {
            "tags": []
          },
          "execution_count": 39
        }
      ]
    },
    {
      "cell_type": "code",
      "metadata": {
        "id": "OLPj7SX92VDI",
        "colab_type": "code",
        "colab": {}
      },
      "source": [
        "engine_typeDict = {'dohc' : 0,\n",
        "                   'ohcv' : 1,\n",
        "                   'ohc' : 2,\n",
        "                   'l' : 3,\n",
        "                   'rotor' : 4,\n",
        "                   'ohcf' : 5,\n",
        "                   'dohcv' : 6}"
      ],
      "execution_count": 0,
      "outputs": []
    },
    {
      "cell_type": "code",
      "metadata": {
        "id": "KYzNBh-j2VMw",
        "colab_type": "code",
        "colab": {}
      },
      "source": [
        "df.engine_type = [engine_typeDict[item] for item in df.engine_type]"
      ],
      "execution_count": 0,
      "outputs": []
    },
    {
      "cell_type": "code",
      "metadata": {
        "id": "qsKuyajTzzXu",
        "colab_type": "code",
        "outputId": "a2923437-b7a7-4919-d964-f291a063a3fb",
        "colab": {
          "base_uri": "https://localhost:8080/",
          "height": 52
        }
      },
      "source": [
        "df.num_of_cylinders.unique()"
      ],
      "execution_count": 42,
      "outputs": [
        {
          "output_type": "execute_result",
          "data": {
            "text/plain": [
              "array(['four', 'six', 'five', 'three', 'twelve', 'two', 'eight'],\n",
              "      dtype=object)"
            ]
          },
          "metadata": {
            "tags": []
          },
          "execution_count": 42
        }
      ]
    },
    {
      "cell_type": "code",
      "metadata": {
        "id": "uga85l5C0M9T",
        "colab_type": "code",
        "colab": {}
      },
      "source": [
        "num_of_cylindersDict = {\n",
        "    'four' : 4,\n",
        "    'six' : 6,\n",
        "    'five' : 5,\n",
        "    'three' : 3,\n",
        "    'twelve' : 12,\n",
        "    'two' : 2,\n",
        "    'eight' :8\n",
        "}"
      ],
      "execution_count": 0,
      "outputs": []
    },
    {
      "cell_type": "code",
      "metadata": {
        "id": "ZU6Pv5dE0NAN",
        "colab_type": "code",
        "colab": {}
      },
      "source": [
        "df.num_of_cylinders = [num_of_cylindersDict[item] for item in df.num_of_cylinders]\n",
        "odf[\"num_of_cylinders\"] = [num_of_cylindersDict[item] for item in odf.num_of_cylinders]"
      ],
      "execution_count": 0,
      "outputs": []
    },
    {
      "cell_type": "code",
      "metadata": {
        "id": "utMV73UJ0NIC",
        "colab_type": "code",
        "outputId": "09d883d3-981a-49f9-9e1e-095822813435",
        "colab": {
          "base_uri": "https://localhost:8080/",
          "height": 52
        }
      },
      "source": [
        "df.fuel_system.unique()"
      ],
      "execution_count": 45,
      "outputs": [
        {
          "output_type": "execute_result",
          "data": {
            "text/plain": [
              "array(['mpfi', '2bbl', 'mfi', '1bbl', 'spfi', '4bbl', 'idi', 'spdi'],\n",
              "      dtype=object)"
            ]
          },
          "metadata": {
            "tags": []
          },
          "execution_count": 45
        }
      ]
    },
    {
      "cell_type": "code",
      "metadata": {
        "id": "k6Wh7bRC0NF8",
        "colab_type": "code",
        "colab": {}
      },
      "source": [
        "fuel_systemDict = {\n",
        "    'mpfi' : 0,\n",
        "    '2bbl' : 1,\n",
        "    'mfi' : 2,\n",
        "    '1bbl' : 3,\n",
        "    'spfi' : 4,\n",
        "    '4bbl' : 5,\n",
        "    'idi' : 6,\n",
        "    'spdi' : 7\n",
        "}"
      ],
      "execution_count": 0,
      "outputs": []
    },
    {
      "cell_type": "code",
      "metadata": {
        "id": "jcanVPfu1RnW",
        "colab_type": "code",
        "colab": {}
      },
      "source": [
        "df.fuel_system = [fuel_systemDict[item] for item in df.fuel_system]"
      ],
      "execution_count": 0,
      "outputs": []
    },
    {
      "cell_type": "code",
      "metadata": {
        "id": "E5JG97zVia4x",
        "colab_type": "code",
        "outputId": "6876effd-7794-44f9-b976-32f950baf4b7",
        "colab": {
          "base_uri": "https://localhost:8080/",
          "height": 800
        }
      },
      "source": [
        "df.corr()"
      ],
      "execution_count": 48,
      "outputs": [
        {
          "output_type": "execute_result",
          "data": {
            "text/html": [
              "<div>\n",
              "<style scoped>\n",
              "    .dataframe tbody tr th:only-of-type {\n",
              "        vertical-align: middle;\n",
              "    }\n",
              "\n",
              "    .dataframe tbody tr th {\n",
              "        vertical-align: top;\n",
              "    }\n",
              "\n",
              "    .dataframe thead th {\n",
              "        text-align: right;\n",
              "    }\n",
              "</style>\n",
              "<table border=\"1\" class=\"dataframe\">\n",
              "  <thead>\n",
              "    <tr style=\"text-align: right;\">\n",
              "      <th></th>\n",
              "      <th>symboling</th>\n",
              "      <th>normalized_losses</th>\n",
              "      <th>make</th>\n",
              "      <th>fuel_type</th>\n",
              "      <th>aspiration</th>\n",
              "      <th>num_of_doors</th>\n",
              "      <th>body_style</th>\n",
              "      <th>drive_wheels</th>\n",
              "      <th>engine_location</th>\n",
              "      <th>wheel_base</th>\n",
              "      <th>length</th>\n",
              "      <th>width</th>\n",
              "      <th>height</th>\n",
              "      <th>curb_weight</th>\n",
              "      <th>engine_type</th>\n",
              "      <th>num_of_cylinders</th>\n",
              "      <th>engine_size</th>\n",
              "      <th>fuel_system</th>\n",
              "      <th>stroke</th>\n",
              "      <th>compression_ratio</th>\n",
              "      <th>horsepower</th>\n",
              "      <th>peak_rpm</th>\n",
              "      <th>city_mpg</th>\n",
              "      <th>highway_mpg</th>\n",
              "      <th>price</th>\n",
              "    </tr>\n",
              "  </thead>\n",
              "  <tbody>\n",
              "    <tr>\n",
              "      <th>symboling</th>\n",
              "      <td>1.000000</td>\n",
              "      <td>0.374686</td>\n",
              "      <td>-0.118794</td>\n",
              "      <td>-0.194311</td>\n",
              "      <td>-0.059866</td>\n",
              "      <td>-0.663595</td>\n",
              "      <td>-0.398970</td>\n",
              "      <td>0.041671</td>\n",
              "      <td>0.212471</td>\n",
              "      <td>-0.531954</td>\n",
              "      <td>-0.357612</td>\n",
              "      <td>-0.232919</td>\n",
              "      <td>-0.541038</td>\n",
              "      <td>-0.227691</td>\n",
              "      <td>0.015797</td>\n",
              "      <td>-0.113129</td>\n",
              "      <td>-0.105790</td>\n",
              "      <td>0.016678</td>\n",
              "      <td>-0.020132</td>\n",
              "      <td>-0.178515</td>\n",
              "      <td>0.070421</td>\n",
              "      <td>0.273125</td>\n",
              "      <td>-0.035823</td>\n",
              "      <td>0.034606</td>\n",
              "      <td>-0.080149</td>\n",
              "    </tr>\n",
              "    <tr>\n",
              "      <th>normalized_losses</th>\n",
              "      <td>0.374686</td>\n",
              "      <td>1.000000</td>\n",
              "      <td>-0.206822</td>\n",
              "      <td>-0.051804</td>\n",
              "      <td>0.018446</td>\n",
              "      <td>-0.276700</td>\n",
              "      <td>-0.080554</td>\n",
              "      <td>-0.292638</td>\n",
              "      <td>0.179271</td>\n",
              "      <td>0.027830</td>\n",
              "      <td>0.158944</td>\n",
              "      <td>0.210896</td>\n",
              "      <td>-0.268163</td>\n",
              "      <td>0.217413</td>\n",
              "      <td>-0.063232</td>\n",
              "      <td>0.218167</td>\n",
              "      <td>0.235116</td>\n",
              "      <td>-0.096403</td>\n",
              "      <td>0.085362</td>\n",
              "      <td>-0.068916</td>\n",
              "      <td>0.365943</td>\n",
              "      <td>0.239336</td>\n",
              "      <td>-0.313297</td>\n",
              "      <td>-0.263738</td>\n",
              "      <td>0.311543</td>\n",
              "    </tr>\n",
              "    <tr>\n",
              "      <th>make</th>\n",
              "      <td>-0.118794</td>\n",
              "      <td>-0.206822</td>\n",
              "      <td>1.000000</td>\n",
              "      <td>0.113191</td>\n",
              "      <td>0.054265</td>\n",
              "      <td>0.151516</td>\n",
              "      <td>0.154998</td>\n",
              "      <td>0.004317</td>\n",
              "      <td>0.054608</td>\n",
              "      <td>0.078505</td>\n",
              "      <td>0.119584</td>\n",
              "      <td>0.003783</td>\n",
              "      <td>0.236233</td>\n",
              "      <td>0.024015</td>\n",
              "      <td>0.147577</td>\n",
              "      <td>-0.125921</td>\n",
              "      <td>-0.070918</td>\n",
              "      <td>-0.045111</td>\n",
              "      <td>-0.196423</td>\n",
              "      <td>0.138828</td>\n",
              "      <td>-0.023650</td>\n",
              "      <td>-0.208826</td>\n",
              "      <td>0.053642</td>\n",
              "      <td>0.050022</td>\n",
              "      <td>-0.154215</td>\n",
              "    </tr>\n",
              "    <tr>\n",
              "      <th>fuel_type</th>\n",
              "      <td>-0.194311</td>\n",
              "      <td>-0.051804</td>\n",
              "      <td>0.113191</td>\n",
              "      <td>1.000000</td>\n",
              "      <td>0.401397</td>\n",
              "      <td>0.188496</td>\n",
              "      <td>0.157580</td>\n",
              "      <td>-0.132257</td>\n",
              "      <td>-0.040070</td>\n",
              "      <td>0.308346</td>\n",
              "      <td>0.212679</td>\n",
              "      <td>0.233880</td>\n",
              "      <td>0.284631</td>\n",
              "      <td>0.217275</td>\n",
              "      <td>0.028837</td>\n",
              "      <td>-0.024544</td>\n",
              "      <td>0.069594</td>\n",
              "      <td>0.682404</td>\n",
              "      <td>0.243718</td>\n",
              "      <td>0.984356</td>\n",
              "      <td>-0.163773</td>\n",
              "      <td>-0.477314</td>\n",
              "      <td>0.255963</td>\n",
              "      <td>0.191392</td>\n",
              "      <td>0.102733</td>\n",
              "    </tr>\n",
              "    <tr>\n",
              "      <th>aspiration</th>\n",
              "      <td>-0.059866</td>\n",
              "      <td>0.018446</td>\n",
              "      <td>0.054265</td>\n",
              "      <td>0.401397</td>\n",
              "      <td>1.000000</td>\n",
              "      <td>0.052803</td>\n",
              "      <td>0.021276</td>\n",
              "      <td>-0.066465</td>\n",
              "      <td>-0.057191</td>\n",
              "      <td>0.257611</td>\n",
              "      <td>0.234539</td>\n",
              "      <td>0.300567</td>\n",
              "      <td>0.087311</td>\n",
              "      <td>0.324902</td>\n",
              "      <td>0.014505</td>\n",
              "      <td>-0.047972</td>\n",
              "      <td>0.108217</td>\n",
              "      <td>0.473355</td>\n",
              "      <td>0.225810</td>\n",
              "      <td>0.295541</td>\n",
              "      <td>0.198958</td>\n",
              "      <td>-0.188081</td>\n",
              "      <td>-0.202362</td>\n",
              "      <td>-0.254416</td>\n",
              "      <td>0.182781</td>\n",
              "    </tr>\n",
              "    <tr>\n",
              "      <th>num_of_doors</th>\n",
              "      <td>-0.663595</td>\n",
              "      <td>-0.276700</td>\n",
              "      <td>0.151516</td>\n",
              "      <td>0.188496</td>\n",
              "      <td>0.052803</td>\n",
              "      <td>1.000000</td>\n",
              "      <td>0.450456</td>\n",
              "      <td>0.104877</td>\n",
              "      <td>-0.139129</td>\n",
              "      <td>0.439635</td>\n",
              "      <td>0.385675</td>\n",
              "      <td>0.197735</td>\n",
              "      <td>0.540286</td>\n",
              "      <td>0.190720</td>\n",
              "      <td>0.035782</td>\n",
              "      <td>-0.019503</td>\n",
              "      <td>0.013919</td>\n",
              "      <td>-0.024635</td>\n",
              "      <td>0.000615</td>\n",
              "      <td>0.171797</td>\n",
              "      <td>-0.122030</td>\n",
              "      <td>-0.240010</td>\n",
              "      <td>-0.014271</td>\n",
              "      <td>-0.037452</td>\n",
              "      <td>0.018002</td>\n",
              "    </tr>\n",
              "    <tr>\n",
              "      <th>body_style</th>\n",
              "      <td>-0.398970</td>\n",
              "      <td>-0.080554</td>\n",
              "      <td>0.154998</td>\n",
              "      <td>0.157580</td>\n",
              "      <td>0.021276</td>\n",
              "      <td>0.450456</td>\n",
              "      <td>1.000000</td>\n",
              "      <td>-0.056886</td>\n",
              "      <td>0.126546</td>\n",
              "      <td>0.368772</td>\n",
              "      <td>0.376842</td>\n",
              "      <td>0.191511</td>\n",
              "      <td>0.483675</td>\n",
              "      <td>0.240367</td>\n",
              "      <td>0.127736</td>\n",
              "      <td>0.106245</td>\n",
              "      <td>0.172381</td>\n",
              "      <td>-0.054724</td>\n",
              "      <td>0.006868</td>\n",
              "      <td>0.156686</td>\n",
              "      <td>0.053645</td>\n",
              "      <td>-0.142657</td>\n",
              "      <td>-0.095826</td>\n",
              "      <td>-0.126939</td>\n",
              "      <td>0.151680</td>\n",
              "    </tr>\n",
              "    <tr>\n",
              "      <th>drive_wheels</th>\n",
              "      <td>0.041671</td>\n",
              "      <td>-0.292638</td>\n",
              "      <td>0.004317</td>\n",
              "      <td>-0.132257</td>\n",
              "      <td>-0.066465</td>\n",
              "      <td>0.104877</td>\n",
              "      <td>-0.056886</td>\n",
              "      <td>1.000000</td>\n",
              "      <td>-0.147865</td>\n",
              "      <td>-0.459745</td>\n",
              "      <td>-0.485649</td>\n",
              "      <td>-0.470751</td>\n",
              "      <td>0.019719</td>\n",
              "      <td>-0.575111</td>\n",
              "      <td>0.192637</td>\n",
              "      <td>-0.314006</td>\n",
              "      <td>-0.524307</td>\n",
              "      <td>0.036437</td>\n",
              "      <td>-0.063575</td>\n",
              "      <td>-0.127479</td>\n",
              "      <td>-0.445614</td>\n",
              "      <td>0.046880</td>\n",
              "      <td>0.449581</td>\n",
              "      <td>0.452220</td>\n",
              "      <td>-0.566840</td>\n",
              "    </tr>\n",
              "    <tr>\n",
              "      <th>engine_location</th>\n",
              "      <td>0.212471</td>\n",
              "      <td>0.179271</td>\n",
              "      <td>0.054608</td>\n",
              "      <td>-0.040070</td>\n",
              "      <td>-0.057191</td>\n",
              "      <td>-0.139129</td>\n",
              "      <td>0.126546</td>\n",
              "      <td>-0.147865</td>\n",
              "      <td>1.000000</td>\n",
              "      <td>-0.187790</td>\n",
              "      <td>-0.050989</td>\n",
              "      <td>-0.051698</td>\n",
              "      <td>-0.106234</td>\n",
              "      <td>0.050468</td>\n",
              "      <td>0.323697</td>\n",
              "      <td>0.183048</td>\n",
              "      <td>0.196826</td>\n",
              "      <td>-0.082672</td>\n",
              "      <td>-0.137508</td>\n",
              "      <td>-0.019762</td>\n",
              "      <td>0.283714</td>\n",
              "      <td>0.195221</td>\n",
              "      <td>-0.153487</td>\n",
              "      <td>-0.102026</td>\n",
              "      <td>0.319873</td>\n",
              "    </tr>\n",
              "    <tr>\n",
              "      <th>wheel_base</th>\n",
              "      <td>-0.531954</td>\n",
              "      <td>0.027830</td>\n",
              "      <td>0.078505</td>\n",
              "      <td>0.308346</td>\n",
              "      <td>0.257611</td>\n",
              "      <td>0.439635</td>\n",
              "      <td>0.368772</td>\n",
              "      <td>-0.459745</td>\n",
              "      <td>-0.187790</td>\n",
              "      <td>1.000000</td>\n",
              "      <td>0.874587</td>\n",
              "      <td>0.795144</td>\n",
              "      <td>0.589435</td>\n",
              "      <td>0.776386</td>\n",
              "      <td>-0.136452</td>\n",
              "      <td>0.339507</td>\n",
              "      <td>0.569329</td>\n",
              "      <td>0.004828</td>\n",
              "      <td>0.164549</td>\n",
              "      <td>0.249786</td>\n",
              "      <td>0.301696</td>\n",
              "      <td>-0.363355</td>\n",
              "      <td>-0.470414</td>\n",
              "      <td>-0.544082</td>\n",
              "      <td>0.571784</td>\n",
              "    </tr>\n",
              "    <tr>\n",
              "      <th>length</th>\n",
              "      <td>-0.357612</td>\n",
              "      <td>0.158944</td>\n",
              "      <td>0.119584</td>\n",
              "      <td>0.212679</td>\n",
              "      <td>0.234539</td>\n",
              "      <td>0.385675</td>\n",
              "      <td>0.376842</td>\n",
              "      <td>-0.485649</td>\n",
              "      <td>-0.050989</td>\n",
              "      <td>0.874587</td>\n",
              "      <td>1.000000</td>\n",
              "      <td>0.841118</td>\n",
              "      <td>0.491029</td>\n",
              "      <td>0.877728</td>\n",
              "      <td>-0.172093</td>\n",
              "      <td>0.430672</td>\n",
              "      <td>0.683360</td>\n",
              "      <td>-0.090618</td>\n",
              "      <td>0.132076</td>\n",
              "      <td>0.158414</td>\n",
              "      <td>0.521192</td>\n",
              "      <td>-0.279406</td>\n",
              "      <td>-0.670909</td>\n",
              "      <td>-0.704662</td>\n",
              "      <td>0.678818</td>\n",
              "    </tr>\n",
              "    <tr>\n",
              "      <th>width</th>\n",
              "      <td>-0.232919</td>\n",
              "      <td>0.210896</td>\n",
              "      <td>0.003783</td>\n",
              "      <td>0.233880</td>\n",
              "      <td>0.300567</td>\n",
              "      <td>0.197735</td>\n",
              "      <td>0.191511</td>\n",
              "      <td>-0.470751</td>\n",
              "      <td>-0.051698</td>\n",
              "      <td>0.795144</td>\n",
              "      <td>0.841118</td>\n",
              "      <td>1.000000</td>\n",
              "      <td>0.279210</td>\n",
              "      <td>0.867032</td>\n",
              "      <td>-0.098253</td>\n",
              "      <td>0.545007</td>\n",
              "      <td>0.735433</td>\n",
              "      <td>-0.017121</td>\n",
              "      <td>0.183379</td>\n",
              "      <td>0.181129</td>\n",
              "      <td>0.596251</td>\n",
              "      <td>-0.214240</td>\n",
              "      <td>-0.642704</td>\n",
              "      <td>-0.677218</td>\n",
              "      <td>0.764977</td>\n",
              "    </tr>\n",
              "    <tr>\n",
              "      <th>height</th>\n",
              "      <td>-0.541038</td>\n",
              "      <td>-0.268163</td>\n",
              "      <td>0.236233</td>\n",
              "      <td>0.284631</td>\n",
              "      <td>0.087311</td>\n",
              "      <td>0.540286</td>\n",
              "      <td>0.483675</td>\n",
              "      <td>0.019719</td>\n",
              "      <td>-0.106234</td>\n",
              "      <td>0.589435</td>\n",
              "      <td>0.491029</td>\n",
              "      <td>0.279210</td>\n",
              "      <td>1.000000</td>\n",
              "      <td>0.295572</td>\n",
              "      <td>0.009540</td>\n",
              "      <td>-0.013995</td>\n",
              "      <td>0.067149</td>\n",
              "      <td>-0.050644</td>\n",
              "      <td>-0.044176</td>\n",
              "      <td>0.261214</td>\n",
              "      <td>-0.114968</td>\n",
              "      <td>-0.322525</td>\n",
              "      <td>-0.048640</td>\n",
              "      <td>-0.107358</td>\n",
              "      <td>0.112421</td>\n",
              "    </tr>\n",
              "    <tr>\n",
              "      <th>curb_weight</th>\n",
              "      <td>-0.227691</td>\n",
              "      <td>0.217413</td>\n",
              "      <td>0.024015</td>\n",
              "      <td>0.217275</td>\n",
              "      <td>0.324902</td>\n",
              "      <td>0.190720</td>\n",
              "      <td>0.240367</td>\n",
              "      <td>-0.575111</td>\n",
              "      <td>0.050468</td>\n",
              "      <td>0.776386</td>\n",
              "      <td>0.877728</td>\n",
              "      <td>0.867032</td>\n",
              "      <td>0.295572</td>\n",
              "      <td>1.000000</td>\n",
              "      <td>-0.165371</td>\n",
              "      <td>0.609727</td>\n",
              "      <td>0.850594</td>\n",
              "      <td>-0.026356</td>\n",
              "      <td>0.170425</td>\n",
              "      <td>0.151362</td>\n",
              "      <td>0.679865</td>\n",
              "      <td>-0.264976</td>\n",
              "      <td>-0.757414</td>\n",
              "      <td>-0.797465</td>\n",
              "      <td>0.835657</td>\n",
              "    </tr>\n",
              "    <tr>\n",
              "      <th>engine_type</th>\n",
              "      <td>0.015797</td>\n",
              "      <td>-0.063232</td>\n",
              "      <td>0.147577</td>\n",
              "      <td>0.028837</td>\n",
              "      <td>0.014505</td>\n",
              "      <td>0.035782</td>\n",
              "      <td>0.127736</td>\n",
              "      <td>0.192637</td>\n",
              "      <td>0.323697</td>\n",
              "      <td>-0.136452</td>\n",
              "      <td>-0.172093</td>\n",
              "      <td>-0.098253</td>\n",
              "      <td>0.009540</td>\n",
              "      <td>-0.165371</td>\n",
              "      <td>1.000000</td>\n",
              "      <td>-0.250047</td>\n",
              "      <td>-0.230979</td>\n",
              "      <td>0.078839</td>\n",
              "      <td>-0.418949</td>\n",
              "      <td>0.030285</td>\n",
              "      <td>-0.100819</td>\n",
              "      <td>-0.056569</td>\n",
              "      <td>0.064209</td>\n",
              "      <td>0.078233</td>\n",
              "      <td>-0.079501</td>\n",
              "    </tr>\n",
              "    <tr>\n",
              "      <th>num_of_cylinders</th>\n",
              "      <td>-0.113129</td>\n",
              "      <td>0.218167</td>\n",
              "      <td>-0.125921</td>\n",
              "      <td>-0.024544</td>\n",
              "      <td>-0.047972</td>\n",
              "      <td>-0.019503</td>\n",
              "      <td>0.106245</td>\n",
              "      <td>-0.314006</td>\n",
              "      <td>0.183048</td>\n",
              "      <td>0.339507</td>\n",
              "      <td>0.430672</td>\n",
              "      <td>0.545007</td>\n",
              "      <td>-0.013995</td>\n",
              "      <td>0.609727</td>\n",
              "      <td>-0.250047</td>\n",
              "      <td>1.000000</td>\n",
              "      <td>0.846031</td>\n",
              "      <td>-0.229010</td>\n",
              "      <td>0.022644</td>\n",
              "      <td>-0.020002</td>\n",
              "      <td>0.613816</td>\n",
              "      <td>-0.127817</td>\n",
              "      <td>-0.445837</td>\n",
              "      <td>-0.466666</td>\n",
              "      <td>0.722627</td>\n",
              "    </tr>\n",
              "    <tr>\n",
              "      <th>engine_size</th>\n",
              "      <td>-0.105790</td>\n",
              "      <td>0.235116</td>\n",
              "      <td>-0.070918</td>\n",
              "      <td>0.069594</td>\n",
              "      <td>0.108217</td>\n",
              "      <td>0.013919</td>\n",
              "      <td>0.172381</td>\n",
              "      <td>-0.524307</td>\n",
              "      <td>0.196826</td>\n",
              "      <td>0.569329</td>\n",
              "      <td>0.683360</td>\n",
              "      <td>0.735433</td>\n",
              "      <td>0.067149</td>\n",
              "      <td>0.850594</td>\n",
              "      <td>-0.230979</td>\n",
              "      <td>0.846031</td>\n",
              "      <td>1.000000</td>\n",
              "      <td>-0.132202</td>\n",
              "      <td>0.211477</td>\n",
              "      <td>0.028971</td>\n",
              "      <td>0.742119</td>\n",
              "      <td>-0.241031</td>\n",
              "      <td>-0.653658</td>\n",
              "      <td>-0.677470</td>\n",
              "      <td>0.870751</td>\n",
              "    </tr>\n",
              "    <tr>\n",
              "      <th>fuel_system</th>\n",
              "      <td>0.016678</td>\n",
              "      <td>-0.096403</td>\n",
              "      <td>-0.045111</td>\n",
              "      <td>0.682404</td>\n",
              "      <td>0.473355</td>\n",
              "      <td>-0.024635</td>\n",
              "      <td>-0.054724</td>\n",
              "      <td>0.036437</td>\n",
              "      <td>-0.082672</td>\n",
              "      <td>0.004828</td>\n",
              "      <td>-0.090618</td>\n",
              "      <td>-0.017121</td>\n",
              "      <td>-0.050644</td>\n",
              "      <td>-0.026356</td>\n",
              "      <td>0.078839</td>\n",
              "      <td>-0.229010</td>\n",
              "      <td>-0.132202</td>\n",
              "      <td>1.000000</td>\n",
              "      <td>0.357671</td>\n",
              "      <td>0.635120</td>\n",
              "      <td>-0.235430</td>\n",
              "      <td>-0.213424</td>\n",
              "      <td>0.261582</td>\n",
              "      <td>0.217181</td>\n",
              "      <td>-0.124608</td>\n",
              "    </tr>\n",
              "    <tr>\n",
              "      <th>stroke</th>\n",
              "      <td>-0.020132</td>\n",
              "      <td>0.085362</td>\n",
              "      <td>-0.196423</td>\n",
              "      <td>0.243718</td>\n",
              "      <td>0.225810</td>\n",
              "      <td>0.000615</td>\n",
              "      <td>0.006868</td>\n",
              "      <td>-0.063575</td>\n",
              "      <td>-0.137508</td>\n",
              "      <td>0.164549</td>\n",
              "      <td>0.132076</td>\n",
              "      <td>0.183379</td>\n",
              "      <td>-0.044176</td>\n",
              "      <td>0.170425</td>\n",
              "      <td>-0.418949</td>\n",
              "      <td>0.022644</td>\n",
              "      <td>0.211477</td>\n",
              "      <td>0.357671</td>\n",
              "      <td>1.000000</td>\n",
              "      <td>0.187134</td>\n",
              "      <td>0.164722</td>\n",
              "      <td>-0.051970</td>\n",
              "      <td>-0.033609</td>\n",
              "      <td>-0.036502</td>\n",
              "      <td>0.079775</td>\n",
              "    </tr>\n",
              "    <tr>\n",
              "      <th>compression_ratio</th>\n",
              "      <td>-0.178515</td>\n",
              "      <td>-0.068916</td>\n",
              "      <td>0.138828</td>\n",
              "      <td>0.984356</td>\n",
              "      <td>0.295541</td>\n",
              "      <td>0.171797</td>\n",
              "      <td>0.156686</td>\n",
              "      <td>-0.127479</td>\n",
              "      <td>-0.019762</td>\n",
              "      <td>0.249786</td>\n",
              "      <td>0.158414</td>\n",
              "      <td>0.181129</td>\n",
              "      <td>0.261214</td>\n",
              "      <td>0.151362</td>\n",
              "      <td>0.030285</td>\n",
              "      <td>-0.020002</td>\n",
              "      <td>0.028971</td>\n",
              "      <td>0.635120</td>\n",
              "      <td>0.187134</td>\n",
              "      <td>1.000000</td>\n",
              "      <td>-0.202096</td>\n",
              "      <td>-0.436976</td>\n",
              "      <td>0.324701</td>\n",
              "      <td>0.265201</td>\n",
              "      <td>0.064381</td>\n",
              "    </tr>\n",
              "    <tr>\n",
              "      <th>horsepower</th>\n",
              "      <td>0.070421</td>\n",
              "      <td>0.365943</td>\n",
              "      <td>-0.023650</td>\n",
              "      <td>-0.163773</td>\n",
              "      <td>0.198958</td>\n",
              "      <td>-0.122030</td>\n",
              "      <td>0.053645</td>\n",
              "      <td>-0.445614</td>\n",
              "      <td>0.283714</td>\n",
              "      <td>0.301696</td>\n",
              "      <td>0.521192</td>\n",
              "      <td>0.596251</td>\n",
              "      <td>-0.114968</td>\n",
              "      <td>0.679865</td>\n",
              "      <td>-0.100819</td>\n",
              "      <td>0.613816</td>\n",
              "      <td>0.742119</td>\n",
              "      <td>-0.235430</td>\n",
              "      <td>0.164722</td>\n",
              "      <td>-0.202096</td>\n",
              "      <td>1.000000</td>\n",
              "      <td>0.171390</td>\n",
              "      <td>-0.744246</td>\n",
              "      <td>-0.699361</td>\n",
              "      <td>0.725481</td>\n",
              "    </tr>\n",
              "    <tr>\n",
              "      <th>peak_rpm</th>\n",
              "      <td>0.273125</td>\n",
              "      <td>0.239336</td>\n",
              "      <td>-0.208826</td>\n",
              "      <td>-0.477314</td>\n",
              "      <td>-0.188081</td>\n",
              "      <td>-0.240010</td>\n",
              "      <td>-0.142657</td>\n",
              "      <td>0.046880</td>\n",
              "      <td>0.195221</td>\n",
              "      <td>-0.363355</td>\n",
              "      <td>-0.279406</td>\n",
              "      <td>-0.214240</td>\n",
              "      <td>-0.322525</td>\n",
              "      <td>-0.264976</td>\n",
              "      <td>-0.056569</td>\n",
              "      <td>-0.127817</td>\n",
              "      <td>-0.241031</td>\n",
              "      <td>-0.213424</td>\n",
              "      <td>-0.051970</td>\n",
              "      <td>-0.436976</td>\n",
              "      <td>0.171390</td>\n",
              "      <td>1.000000</td>\n",
              "      <td>-0.117108</td>\n",
              "      <td>-0.053351</td>\n",
              "      <td>-0.083675</td>\n",
              "    </tr>\n",
              "    <tr>\n",
              "      <th>city_mpg</th>\n",
              "      <td>-0.035823</td>\n",
              "      <td>-0.313297</td>\n",
              "      <td>0.053642</td>\n",
              "      <td>0.255963</td>\n",
              "      <td>-0.202362</td>\n",
              "      <td>-0.014271</td>\n",
              "      <td>-0.095826</td>\n",
              "      <td>0.449581</td>\n",
              "      <td>-0.153487</td>\n",
              "      <td>-0.470414</td>\n",
              "      <td>-0.670909</td>\n",
              "      <td>-0.642704</td>\n",
              "      <td>-0.048640</td>\n",
              "      <td>-0.757414</td>\n",
              "      <td>0.064209</td>\n",
              "      <td>-0.445837</td>\n",
              "      <td>-0.653658</td>\n",
              "      <td>0.261582</td>\n",
              "      <td>-0.033609</td>\n",
              "      <td>0.324701</td>\n",
              "      <td>-0.744246</td>\n",
              "      <td>-0.117108</td>\n",
              "      <td>1.000000</td>\n",
              "      <td>0.971337</td>\n",
              "      <td>-0.690580</td>\n",
              "    </tr>\n",
              "    <tr>\n",
              "      <th>highway_mpg</th>\n",
              "      <td>0.034606</td>\n",
              "      <td>-0.263738</td>\n",
              "      <td>0.050022</td>\n",
              "      <td>0.191392</td>\n",
              "      <td>-0.254416</td>\n",
              "      <td>-0.037452</td>\n",
              "      <td>-0.126939</td>\n",
              "      <td>0.452220</td>\n",
              "      <td>-0.102026</td>\n",
              "      <td>-0.544082</td>\n",
              "      <td>-0.704662</td>\n",
              "      <td>-0.677218</td>\n",
              "      <td>-0.107358</td>\n",
              "      <td>-0.797465</td>\n",
              "      <td>0.078233</td>\n",
              "      <td>-0.466666</td>\n",
              "      <td>-0.677470</td>\n",
              "      <td>0.217181</td>\n",
              "      <td>-0.036502</td>\n",
              "      <td>0.265201</td>\n",
              "      <td>-0.699361</td>\n",
              "      <td>-0.053351</td>\n",
              "      <td>0.971337</td>\n",
              "      <td>1.000000</td>\n",
              "      <td>-0.698389</td>\n",
              "    </tr>\n",
              "    <tr>\n",
              "      <th>price</th>\n",
              "      <td>-0.080149</td>\n",
              "      <td>0.311543</td>\n",
              "      <td>-0.154215</td>\n",
              "      <td>0.102733</td>\n",
              "      <td>0.182781</td>\n",
              "      <td>0.018002</td>\n",
              "      <td>0.151680</td>\n",
              "      <td>-0.566840</td>\n",
              "      <td>0.319873</td>\n",
              "      <td>0.571784</td>\n",
              "      <td>0.678818</td>\n",
              "      <td>0.764977</td>\n",
              "      <td>0.112421</td>\n",
              "      <td>0.835657</td>\n",
              "      <td>-0.079501</td>\n",
              "      <td>0.722627</td>\n",
              "      <td>0.870751</td>\n",
              "      <td>-0.124608</td>\n",
              "      <td>0.079775</td>\n",
              "      <td>0.064381</td>\n",
              "      <td>0.725481</td>\n",
              "      <td>-0.083675</td>\n",
              "      <td>-0.690580</td>\n",
              "      <td>-0.698389</td>\n",
              "      <td>1.000000</td>\n",
              "    </tr>\n",
              "  </tbody>\n",
              "</table>\n",
              "</div>"
            ],
            "text/plain": [
              "                   symboling  normalized_losses  ...  highway_mpg     price\n",
              "symboling           1.000000           0.374686  ...     0.034606 -0.080149\n",
              "normalized_losses   0.374686           1.000000  ...    -0.263738  0.311543\n",
              "make               -0.118794          -0.206822  ...     0.050022 -0.154215\n",
              "fuel_type          -0.194311          -0.051804  ...     0.191392  0.102733\n",
              "aspiration         -0.059866           0.018446  ...    -0.254416  0.182781\n",
              "num_of_doors       -0.663595          -0.276700  ...    -0.037452  0.018002\n",
              "body_style         -0.398970          -0.080554  ...    -0.126939  0.151680\n",
              "drive_wheels        0.041671          -0.292638  ...     0.452220 -0.566840\n",
              "engine_location     0.212471           0.179271  ...    -0.102026  0.319873\n",
              "wheel_base         -0.531954           0.027830  ...    -0.544082  0.571784\n",
              "length             -0.357612           0.158944  ...    -0.704662  0.678818\n",
              "width              -0.232919           0.210896  ...    -0.677218  0.764977\n",
              "height             -0.541038          -0.268163  ...    -0.107358  0.112421\n",
              "curb_weight        -0.227691           0.217413  ...    -0.797465  0.835657\n",
              "engine_type         0.015797          -0.063232  ...     0.078233 -0.079501\n",
              "num_of_cylinders   -0.113129           0.218167  ...    -0.466666  0.722627\n",
              "engine_size        -0.105790           0.235116  ...    -0.677470  0.870751\n",
              "fuel_system         0.016678          -0.096403  ...     0.217181 -0.124608\n",
              "stroke             -0.020132           0.085362  ...    -0.036502  0.079775\n",
              "compression_ratio  -0.178515          -0.068916  ...     0.265201  0.064381\n",
              "horsepower          0.070421           0.365943  ...    -0.699361  0.725481\n",
              "peak_rpm            0.273125           0.239336  ...    -0.053351 -0.083675\n",
              "city_mpg           -0.035823          -0.313297  ...     0.971337 -0.690580\n",
              "highway_mpg         0.034606          -0.263738  ...     1.000000 -0.698389\n",
              "price              -0.080149           0.311543  ...    -0.698389  1.000000\n",
              "\n",
              "[25 rows x 25 columns]"
            ]
          },
          "metadata": {
            "tags": []
          },
          "execution_count": 48
        }
      ]
    },
    {
      "cell_type": "code",
      "metadata": {
        "id": "nR0SWFZwmFNh",
        "colab_type": "code",
        "outputId": "e6acd249-857c-4755-cf0b-44bfbfb8ccb1",
        "colab": {
          "base_uri": "https://localhost:8080/",
          "height": 949
        }
      },
      "source": [
        "plt.subplots(figsize=(20,15))\n",
        "sns.heatmap(odf.corr(),annot=True)\n",
        "plt.show()"
      ],
      "execution_count": 49,
      "outputs": [
        {
          "output_type": "display_data",
          "data": {
            "image/png": "[encoded data removed]",
            "text/plain": [
              "<Figure size 1440x1080 with 2 Axes>"
            ]
          },
          "metadata": {
            "tags": []
          }
        }
      ]
    },
    {
      "cell_type": "code",
      "metadata": {
        "id": "EPaZvPnnu8Tq",
        "colab_type": "code",
        "outputId": "2100dd6c-782a-471d-82d7-77bb8a81bf79",
        "colab": {
          "base_uri": "https://localhost:8080/",
          "height": 470
        }
      },
      "source": [
        "odf"
      ],
      "execution_count": 50,
      "outputs": [
        {
          "output_type": "execute_result",
          "data": {
            "text/html": [
              "<div>\n",
              "<style scoped>\n",
              "    .dataframe tbody tr th:only-of-type {\n",
              "        vertical-align: middle;\n",
              "    }\n",
              "\n",
              "    .dataframe tbody tr th {\n",
              "        vertical-align: top;\n",
              "    }\n",
              "\n",
              "    .dataframe thead th {\n",
              "        text-align: right;\n",
              "    }\n",
              "</style>\n",
              "<table border=\"1\" class=\"dataframe\">\n",
              "  <thead>\n",
              "    <tr style=\"text-align: right;\">\n",
              "      <th></th>\n",
              "      <th>symboling</th>\n",
              "      <th>normalized_losses</th>\n",
              "      <th>make</th>\n",
              "      <th>fuel_type</th>\n",
              "      <th>aspiration</th>\n",
              "      <th>num_of_doors</th>\n",
              "      <th>body_style</th>\n",
              "      <th>drive_wheels</th>\n",
              "      <th>engine_location</th>\n",
              "      <th>wheel_base</th>\n",
              "      <th>length</th>\n",
              "      <th>width</th>\n",
              "      <th>height</th>\n",
              "      <th>curb_weight</th>\n",
              "      <th>engine_type</th>\n",
              "      <th>num_of_cylinders</th>\n",
              "      <th>engine_size</th>\n",
              "      <th>fuel_system</th>\n",
              "      <th>bore</th>\n",
              "      <th>stroke</th>\n",
              "      <th>compression_ratio</th>\n",
              "      <th>horsepower</th>\n",
              "      <th>peak_rpm</th>\n",
              "      <th>city_mpg</th>\n",
              "      <th>highway_mpg</th>\n",
              "      <th>price</th>\n",
              "    </tr>\n",
              "  </thead>\n",
              "  <tbody>\n",
              "    <tr>\n",
              "      <th>0</th>\n",
              "      <td>3</td>\n",
              "      <td>126.609756</td>\n",
              "      <td>alfa-romero</td>\n",
              "      <td>gas</td>\n",
              "      <td>std</td>\n",
              "      <td>2</td>\n",
              "      <td>convertible</td>\n",
              "      <td>rwd</td>\n",
              "      <td>front</td>\n",
              "      <td>88.6</td>\n",
              "      <td>168.8</td>\n",
              "      <td>64.1</td>\n",
              "      <td>48.8</td>\n",
              "      <td>2548</td>\n",
              "      <td>dohc</td>\n",
              "      <td>4</td>\n",
              "      <td>130</td>\n",
              "      <td>mpfi</td>\n",
              "      <td>3.47</td>\n",
              "      <td>2.68</td>\n",
              "      <td>9.0</td>\n",
              "      <td>111.0</td>\n",
              "      <td>5000</td>\n",
              "      <td>21</td>\n",
              "      <td>27</td>\n",
              "      <td>13495.0</td>\n",
              "    </tr>\n",
              "    <tr>\n",
              "      <th>1</th>\n",
              "      <td>3</td>\n",
              "      <td>126.609756</td>\n",
              "      <td>alfa-romero</td>\n",
              "      <td>gas</td>\n",
              "      <td>std</td>\n",
              "      <td>2</td>\n",
              "      <td>convertible</td>\n",
              "      <td>rwd</td>\n",
              "      <td>front</td>\n",
              "      <td>88.6</td>\n",
              "      <td>168.8</td>\n",
              "      <td>64.1</td>\n",
              "      <td>48.8</td>\n",
              "      <td>2548</td>\n",
              "      <td>dohc</td>\n",
              "      <td>4</td>\n",
              "      <td>130</td>\n",
              "      <td>mpfi</td>\n",
              "      <td>3.47</td>\n",
              "      <td>2.68</td>\n",
              "      <td>9.0</td>\n",
              "      <td>111.0</td>\n",
              "      <td>5000</td>\n",
              "      <td>21</td>\n",
              "      <td>27</td>\n",
              "      <td>16500.0</td>\n",
              "    </tr>\n",
              "    <tr>\n",
              "      <th>2</th>\n",
              "      <td>1</td>\n",
              "      <td>126.609756</td>\n",
              "      <td>alfa-romero</td>\n",
              "      <td>gas</td>\n",
              "      <td>std</td>\n",
              "      <td>2</td>\n",
              "      <td>hatchback</td>\n",
              "      <td>rwd</td>\n",
              "      <td>front</td>\n",
              "      <td>94.5</td>\n",
              "      <td>171.2</td>\n",
              "      <td>65.5</td>\n",
              "      <td>52.4</td>\n",
              "      <td>2823</td>\n",
              "      <td>ohcv</td>\n",
              "      <td>6</td>\n",
              "      <td>152</td>\n",
              "      <td>mpfi</td>\n",
              "      <td>2.68</td>\n",
              "      <td>3.47</td>\n",
              "      <td>9.0</td>\n",
              "      <td>154.0</td>\n",
              "      <td>5000</td>\n",
              "      <td>19</td>\n",
              "      <td>26</td>\n",
              "      <td>16500.0</td>\n",
              "    </tr>\n",
              "    <tr>\n",
              "      <th>3</th>\n",
              "      <td>2</td>\n",
              "      <td>164.000000</td>\n",
              "      <td>audi</td>\n",
              "      <td>gas</td>\n",
              "      <td>std</td>\n",
              "      <td>4</td>\n",
              "      <td>sedan</td>\n",
              "      <td>fwd</td>\n",
              "      <td>front</td>\n",
              "      <td>99.8</td>\n",
              "      <td>176.6</td>\n",
              "      <td>66.2</td>\n",
              "      <td>54.3</td>\n",
              "      <td>2337</td>\n",
              "      <td>ohc</td>\n",
              "      <td>4</td>\n",
              "      <td>109</td>\n",
              "      <td>mpfi</td>\n",
              "      <td>3.19</td>\n",
              "      <td>3.40</td>\n",
              "      <td>10.0</td>\n",
              "      <td>102.0</td>\n",
              "      <td>5500</td>\n",
              "      <td>24</td>\n",
              "      <td>30</td>\n",
              "      <td>13950.0</td>\n",
              "    </tr>\n",
              "    <tr>\n",
              "      <th>4</th>\n",
              "      <td>2</td>\n",
              "      <td>164.000000</td>\n",
              "      <td>audi</td>\n",
              "      <td>gas</td>\n",
              "      <td>std</td>\n",
              "      <td>4</td>\n",
              "      <td>sedan</td>\n",
              "      <td>4wd</td>\n",
              "      <td>front</td>\n",
              "      <td>99.4</td>\n",
              "      <td>176.6</td>\n",
              "      <td>66.4</td>\n",
              "      <td>54.3</td>\n",
              "      <td>2824</td>\n",
              "      <td>ohc</td>\n",
              "      <td>5</td>\n",
              "      <td>136</td>\n",
              "      <td>mpfi</td>\n",
              "      <td>3.19</td>\n",
              "      <td>3.40</td>\n",
              "      <td>8.0</td>\n",
              "      <td>115.0</td>\n",
              "      <td>5500</td>\n",
              "      <td>18</td>\n",
              "      <td>22</td>\n",
              "      <td>17450.0</td>\n",
              "    </tr>\n",
              "    <tr>\n",
              "      <th>...</th>\n",
              "      <td>...</td>\n",
              "      <td>...</td>\n",
              "      <td>...</td>\n",
              "      <td>...</td>\n",
              "      <td>...</td>\n",
              "      <td>...</td>\n",
              "      <td>...</td>\n",
              "      <td>...</td>\n",
              "      <td>...</td>\n",
              "      <td>...</td>\n",
              "      <td>...</td>\n",
              "      <td>...</td>\n",
              "      <td>...</td>\n",
              "      <td>...</td>\n",
              "      <td>...</td>\n",
              "      <td>...</td>\n",
              "      <td>...</td>\n",
              "      <td>...</td>\n",
              "      <td>...</td>\n",
              "      <td>...</td>\n",
              "      <td>...</td>\n",
              "      <td>...</td>\n",
              "      <td>...</td>\n",
              "      <td>...</td>\n",
              "      <td>...</td>\n",
              "      <td>...</td>\n",
              "    </tr>\n",
              "    <tr>\n",
              "      <th>200</th>\n",
              "      <td>-1</td>\n",
              "      <td>95.000000</td>\n",
              "      <td>volvo</td>\n",
              "      <td>gas</td>\n",
              "      <td>std</td>\n",
              "      <td>4</td>\n",
              "      <td>sedan</td>\n",
              "      <td>rwd</td>\n",
              "      <td>front</td>\n",
              "      <td>109.1</td>\n",
              "      <td>188.8</td>\n",
              "      <td>68.9</td>\n",
              "      <td>55.5</td>\n",
              "      <td>2952</td>\n",
              "      <td>ohc</td>\n",
              "      <td>4</td>\n",
              "      <td>141</td>\n",
              "      <td>mpfi</td>\n",
              "      <td>3.78</td>\n",
              "      <td>3.15</td>\n",
              "      <td>9.5</td>\n",
              "      <td>114.0</td>\n",
              "      <td>5400</td>\n",
              "      <td>23</td>\n",
              "      <td>28</td>\n",
              "      <td>16845.0</td>\n",
              "    </tr>\n",
              "    <tr>\n",
              "      <th>201</th>\n",
              "      <td>-1</td>\n",
              "      <td>95.000000</td>\n",
              "      <td>volvo</td>\n",
              "      <td>gas</td>\n",
              "      <td>turbo</td>\n",
              "      <td>4</td>\n",
              "      <td>sedan</td>\n",
              "      <td>rwd</td>\n",
              "      <td>front</td>\n",
              "      <td>109.1</td>\n",
              "      <td>188.8</td>\n",
              "      <td>68.8</td>\n",
              "      <td>55.5</td>\n",
              "      <td>3049</td>\n",
              "      <td>ohc</td>\n",
              "      <td>4</td>\n",
              "      <td>141</td>\n",
              "      <td>mpfi</td>\n",
              "      <td>3.78</td>\n",
              "      <td>3.15</td>\n",
              "      <td>8.7</td>\n",
              "      <td>160.0</td>\n",
              "      <td>5300</td>\n",
              "      <td>19</td>\n",
              "      <td>25</td>\n",
              "      <td>19045.0</td>\n",
              "    </tr>\n",
              "    <tr>\n",
              "      <th>202</th>\n",
              "      <td>-1</td>\n",
              "      <td>95.000000</td>\n",
              "      <td>volvo</td>\n",
              "      <td>gas</td>\n",
              "      <td>std</td>\n",
              "      <td>4</td>\n",
              "      <td>sedan</td>\n",
              "      <td>rwd</td>\n",
              "      <td>front</td>\n",
              "      <td>109.1</td>\n",
              "      <td>188.8</td>\n",
              "      <td>68.9</td>\n",
              "      <td>55.5</td>\n",
              "      <td>3012</td>\n",
              "      <td>ohcv</td>\n",
              "      <td>6</td>\n",
              "      <td>173</td>\n",
              "      <td>mpfi</td>\n",
              "      <td>3.58</td>\n",
              "      <td>2.87</td>\n",
              "      <td>8.8</td>\n",
              "      <td>134.0</td>\n",
              "      <td>5500</td>\n",
              "      <td>18</td>\n",
              "      <td>23</td>\n",
              "      <td>21485.0</td>\n",
              "    </tr>\n",
              "    <tr>\n",
              "      <th>203</th>\n",
              "      <td>-1</td>\n",
              "      <td>95.000000</td>\n",
              "      <td>volvo</td>\n",
              "      <td>diesel</td>\n",
              "      <td>turbo</td>\n",
              "      <td>4</td>\n",
              "      <td>sedan</td>\n",
              "      <td>rwd</td>\n",
              "      <td>front</td>\n",
              "      <td>109.1</td>\n",
              "      <td>188.8</td>\n",
              "      <td>68.9</td>\n",
              "      <td>55.5</td>\n",
              "      <td>3217</td>\n",
              "      <td>ohc</td>\n",
              "      <td>6</td>\n",
              "      <td>145</td>\n",
              "      <td>idi</td>\n",
              "      <td>3.01</td>\n",
              "      <td>3.40</td>\n",
              "      <td>23.0</td>\n",
              "      <td>106.0</td>\n",
              "      <td>4800</td>\n",
              "      <td>26</td>\n",
              "      <td>27</td>\n",
              "      <td>22470.0</td>\n",
              "    </tr>\n",
              "    <tr>\n",
              "      <th>204</th>\n",
              "      <td>-1</td>\n",
              "      <td>95.000000</td>\n",
              "      <td>volvo</td>\n",
              "      <td>gas</td>\n",
              "      <td>turbo</td>\n",
              "      <td>4</td>\n",
              "      <td>sedan</td>\n",
              "      <td>rwd</td>\n",
              "      <td>front</td>\n",
              "      <td>109.1</td>\n",
              "      <td>188.8</td>\n",
              "      <td>68.9</td>\n",
              "      <td>55.5</td>\n",
              "      <td>3062</td>\n",
              "      <td>ohc</td>\n",
              "      <td>4</td>\n",
              "      <td>141</td>\n",
              "      <td>mpfi</td>\n",
              "      <td>3.78</td>\n",
              "      <td>3.15</td>\n",
              "      <td>9.5</td>\n",
              "      <td>114.0</td>\n",
              "      <td>5400</td>\n",
              "      <td>19</td>\n",
              "      <td>25</td>\n",
              "      <td>22625.0</td>\n",
              "    </tr>\n",
              "  </tbody>\n",
              "</table>\n",
              "<p>205 rows × 26 columns</p>\n",
              "</div>"
            ],
            "text/plain": [
              "     symboling  normalized_losses         make  ... city_mpg highway_mpg    price\n",
              "0            3         126.609756  alfa-romero  ...       21          27  13495.0\n",
              "1            3         126.609756  alfa-romero  ...       21          27  16500.0\n",
              "2            1         126.609756  alfa-romero  ...       19          26  16500.0\n",
              "3            2         164.000000         audi  ...       24          30  13950.0\n",
              "4            2         164.000000         audi  ...       18          22  17450.0\n",
              "..         ...                ...          ...  ...      ...         ...      ...\n",
              "200         -1          95.000000        volvo  ...       23          28  16845.0\n",
              "201         -1          95.000000        volvo  ...       19          25  19045.0\n",
              "202         -1          95.000000        volvo  ...       18          23  21485.0\n",
              "203         -1          95.000000        volvo  ...       26          27  22470.0\n",
              "204         -1          95.000000        volvo  ...       19          25  22625.0\n",
              "\n",
              "[205 rows x 26 columns]"
            ]
          },
          "metadata": {
            "tags": []
          },
          "execution_count": 50
        }
      ]
    },
    {
      "cell_type": "code",
      "metadata": {
        "id": "SwSiMiYTvaNJ",
        "colab_type": "code",
        "outputId": "20493435-5b02-4b8e-c178-395b0f4dd6a5",
        "colab": {
          "base_uri": "https://localhost:8080/",
          "height": 673
        }
      },
      "source": [
        "#result = odf[\"make\", 'price'].aggregate(np.median).sort_values('price')\n",
        "\n",
        "\n",
        "fig_dims = (15,10)\n",
        "fig, ax = plt.subplots(figsize = fig_dims)\n",
        "\n",
        "plt.title(\"Analysis of Brands\")\n",
        "plt.xlabel(\"Brand\")\n",
        "plt.ylabel(\"Price\")\n",
        "plt.xticks(rotation = 45)\n",
        "sns.barplot(odf.make,df.price,ax = ax,errwidth=1)\n",
        "plt.show()\n",
        "\n",
        "\n",
        "\n",
        "#change_width(g, 5)\n",
        "# plt.bar([inv_makeDict[item] for item in df.make], df.price,1)"
      ],
      "execution_count": 51,
      "outputs": [
        {
          "output_type": "display_data",
          "data": {
            "image/png": "[encoded data removed]",
            "text/plain": [
              "<Figure size 1080x720 with 1 Axes>"
            ]
          },
          "metadata": {
            "tags": []
          }
        }
      ]
    },
    {
      "cell_type": "code",
      "metadata": {
        "id": "KAmMyYaI6Dom",
        "colab_type": "code",
        "outputId": "56296213-f5e2-4af6-9aed-680a5627fe11",
        "colab": {
          "base_uri": "https://localhost:8080/",
          "height": 616
        }
      },
      "source": [
        "fig_dims = (60,10)\n",
        "fig, ax = plt.subplots(figsize = fig_dims)\n",
        "plt.show()"
      ],
      "execution_count": 52,
      "outputs": [
        {
          "output_type": "display_data",
          "data": {
            "image/png": "[encoded data removed]",
            "text/plain": [
              "<Figure size 4320x720 with 1 Axes>"
            ]
          },
          "metadata": {
            "tags": []
          }
        }
      ]
    },
    {
      "cell_type": "code",
      "metadata": {
        "id": "DmZyjgR81ISc",
        "colab_type": "code",
        "outputId": "55e34e58-488d-48a6-a6f4-0da4c3491b2d",
        "colab": {
          "base_uri": "https://localhost:8080/",
          "height": 132
        }
      },
      "source": [
        "fig_dims = (25,1)\n",
        "fig, ax = plt.subplots(figsize = fig_dims)\n",
        "plt.title(\"Price - Box Plot\")\n",
        "sns.boxplot(df.price, ax = ax)\n",
        "plt.show()"
      ],
      "execution_count": 53,
      "outputs": [
        {
          "output_type": "display_data",
          "data": {
            "image/png": "[encoded data removed]",
            "text/plain": [
              "<Figure size 1800x72 with 1 Axes>"
            ]
          },
          "metadata": {
            "tags": []
          }
        }
      ]
    },
    {
      "cell_type": "code",
      "metadata": {
        "id": "Sc8p1Jbn4eqF",
        "colab_type": "code",
        "outputId": "b572cab0-c937-4bc8-fb62-241c57ad19df",
        "colab": {
          "base_uri": "https://localhost:8080/",
          "height": 132
        }
      },
      "source": [
        "fig_dims = (10,1)\n",
        "fig, ax = plt.subplots(figsize = fig_dims)\n",
        "plt.title(\"Horse Power - Box Plot\")\n",
        "sns.boxplot(df.horsepower, ax = ax)\n",
        "plt.show()"
      ],
      "execution_count": 54,
      "outputs": [
        {
          "output_type": "display_data",
          "data": {
            "image/png": "[encoded data removed]",
            "text/plain": [
              "<Figure size 720x72 with 1 Axes>"
            ]
          },
          "metadata": {
            "tags": []
          }
        }
      ]
    },
    {
      "cell_type": "code",
      "metadata": {
        "id": "q0XdwmsB5Z91",
        "colab_type": "code",
        "outputId": "2ca8debf-6fd2-4003-f372-2353257b109e",
        "colab": {
          "base_uri": "https://localhost:8080/",
          "height": 133
        }
      },
      "source": [
        "fig_dims = (10,1)\n",
        "fig, ax = plt.subplots(figsize = fig_dims)\n",
        "plt.title(\"Curb Weight - Box Plot\")\n",
        "sns.boxplot(df.curb_weight, ax = ax)\n",
        "plt.show()"
      ],
      "execution_count": 55,
      "outputs": [
        {
          "output_type": "display_data",
          "data": {
            "image/png": "[encoded data removed]",
            "text/plain": [
              "<Figure size 720x72 with 1 Axes>"
            ]
          },
          "metadata": {
            "tags": []
          }
        }
      ]
    },
    {
      "cell_type": "code",
      "metadata": {
        "id": "fmcL3QYu7KQR",
        "colab_type": "code",
        "outputId": "27faa93f-d696-4fd3-c33b-9e04161ea621",
        "colab": {
          "base_uri": "https://localhost:8080/",
          "height": 133
        }
      },
      "source": [
        "fig_dims = (10,1)\n",
        "fig, ax = plt.subplots(figsize = fig_dims)\n",
        "plt.title(\"Engine Size - Box Plot\")\n",
        "sns.boxplot(df.engine_size, ax = ax)\n",
        "plt.show()"
      ],
      "execution_count": 56,
      "outputs": [
        {
          "output_type": "display_data",
          "data": {
            "image/png": "[encoded data removed]",
            "text/plain": [
              "<Figure size 720x72 with 1 Axes>"
            ]
          },
          "metadata": {
            "tags": []
          }
        }
      ]
    },
    {
      "cell_type": "code",
      "metadata": {
        "id": "rBT6lwB07RS1",
        "colab_type": "code",
        "outputId": "ff407fe3-4725-4ec4-835c-fe53606fe0d1",
        "colab": {
          "base_uri": "https://localhost:8080/",
          "height": 133
        }
      },
      "source": [
        "fig_dims = (10,1)\n",
        "fig, ax = plt.subplots(figsize = fig_dims)\n",
        "plt.title(\"Peak RPM - Box Plot\")\n",
        "sns.boxplot(df.peak_rpm, ax = ax)\n",
        "plt.show()"
      ],
      "execution_count": 57,
      "outputs": [
        {
          "output_type": "display_data",
          "data": {
            "image/png": "[encoded data removed]",
            "text/plain": [
              "<Figure size 720x72 with 1 Axes>"
            ]
          },
          "metadata": {
            "tags": []
          }
        }
      ]
    },
    {
      "cell_type": "code",
      "metadata": {
        "id": "rf3Akptf7l_r",
        "colab_type": "code",
        "colab": {}
      },
      "source": [
        "# g = sns.pairplot(odf, palette=\"husl\")\n",
        "#g.savefig(\"PairPlot.jpg\")\n",
        "#files.download(\"PairPlot.jpg\")"
      ],
      "execution_count": 0,
      "outputs": []
    },
    {
      "cell_type": "code",
      "metadata": {
        "id": "1resZQKI1isx",
        "colab_type": "code",
        "outputId": "fd3a4f32-c9db-4bc9-ceca-188249a5a900",
        "colab": {
          "base_uri": "https://localhost:8080/",
          "height": 621
        }
      },
      "source": [
        "\n",
        "fig_dims = (15,10)\n",
        "fig, ax = plt.subplots(figsize = fig_dims)\n",
        "sns.scatterplot(df.price, df.city_mpg, ax =ax)\n",
        "sns.scatterplot(df.price, df.highway_mpg, ax = ax)\n",
        "plt.xlabel(\"Price\")\n",
        "plt.ylabel(\"Overall miles per Gallon\")\n",
        "plt.title(\"Variation of mileage upon Price\")\n",
        "plt.show()\n"
      ],
      "execution_count": 59,
      "outputs": [
        {
          "output_type": "display_data",
          "data": {
            "image/png": "[encoded data removed]",
            "text/plain": [
              "<Figure size 1080x720 with 1 Axes>"
            ]
          },
          "metadata": {
            "tags": []
          }
        }
      ]
    },
    {
      "cell_type": "code",
      "metadata": {
        "id": "99wQtuU7GAYq",
        "colab_type": "code",
        "outputId": "4ca5239a-5153-4241-a69d-efd0de46aba9",
        "colab": {
          "base_uri": "https://localhost:8080/",
          "height": 961
        }
      },
      "source": [
        "sns.catplot(x = 'price', y ='make', hue= 'engine_type', data=odf, kind=\"bar\", errwidth=0,height = 13, aspect=0.5)\n",
        "plt.title(\"Engine type used by brands based on price\")\n",
        "plt.show()"
      ],
      "execution_count": 60,
      "outputs": [
        {
          "output_type": "display_data",
          "data": {
            "image/png": "[encoded data removed]",
            "text/plain": [
              "<Figure size 537.375x936 with 1 Axes>"
            ]
          },
          "metadata": {
            "tags": []
          }
        }
      ]
    },
    {
      "cell_type": "code",
      "metadata": {
        "id": "KYGSVMvKIoaz",
        "colab_type": "code",
        "outputId": "5752ee49-5534-445c-b162-4c74e009c459",
        "colab": {
          "base_uri": "https://localhost:8080/",
          "height": 295
        }
      },
      "source": [
        "sns.barplot(x = 'engine_type', y = 'city_mpg', data=odf, errwidth=0.5)\n",
        "plt.title(\"Mileage versus Engine Type\")\n",
        "plt.xlabel(\"Engine Type\")\n",
        "plt.ylabel(\"Mileage(City Miles per Gallon)\")\n",
        "plt.savefig(\"Z.jpg\")\n",
        "plt.show()"
      ],
      "execution_count": 61,
      "outputs": [
        {
          "output_type": "display_data",
          "data": {
            "image/png": "[encoded data removed]",
            "text/plain": [
              "<Figure size 432x288 with 1 Axes>"
            ]
          },
          "metadata": {
            "tags": []
          }
        }
      ]
    },
    {
      "cell_type": "code",
      "metadata": {
        "id": "q_TthPV1PiIN",
        "colab_type": "code",
        "colab": {}
      },
      "source": [
        "corrdf = odf.corr()\n"
      ],
      "execution_count": 0,
      "outputs": []
    },
    {
      "cell_type": "code",
      "metadata": {
        "id": "s72EuxgVQZBB",
        "colab_type": "code",
        "outputId": "0a1f8b8a-da5f-41cf-c9c9-000e589761c7",
        "colab": {
          "base_uri": "https://localhost:8080/",
          "height": 377
        }
      },
      "source": [
        "row = corrdf.iloc[16]\n",
        "row = row.drop(labels=\"price\")\n",
        "row.plot(kind='bar')\n",
        "plt.xlabel(\"Factors\")\n",
        "plt.ylabel(\"Correlation with Price (Scale : -1 to +1)\")\n",
        "plt.title(\"Correlation of Factors with Price\")\n",
        "plt.show()"
      ],
      "execution_count": 63,
      "outputs": [
        {
          "output_type": "display_data",
          "data": {
            "image/png": "[encoded data removed]",
            "text/plain": [
              "<Figure size 432x288 with 1 Axes>"
            ]
          },
          "metadata": {
            "tags": []
          }
        }
      ]
    },
    {
      "cell_type": "code",
      "metadata": {
        "id": "yRPIuwBPQsA6",
        "colab_type": "code",
        "outputId": "ed4e65ea-90ec-4099-c9d1-04b22b2021ef",
        "colab": {
          "base_uri": "https://localhost:8080/",
          "height": 621
        }
      },
      "source": [
        "fig_dims = (15,10)\n",
        "fig, ax = plt.subplots(figsize = fig_dims)\n",
        "sns.scatterplot(odf.horsepower,odf.price,ax = ax)\n",
        "plt.title(\"Horsepower versus Price\")\n",
        "plt.show()"
      ],
      "execution_count": 64,
      "outputs": [
        {
          "output_type": "display_data",
          "data": {
            "image/png": "[encoded data removed]",
            "text/plain": [
              "<Figure size 1080x720 with 1 Axes>"
            ]
          },
          "metadata": {
            "tags": []
          }
        }
      ]
    }
  ]
}